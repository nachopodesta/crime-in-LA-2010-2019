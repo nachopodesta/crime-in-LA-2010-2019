{
 "cells": [
  {
   "cell_type": "markdown",
   "metadata": {},
   "source": [
    "### Exploratory data analysis of crimes in LA 2010/2019\n",
    "\n",
    "Ignacio Podestá"
   ]
  },
  {
   "cell_type": "code",
   "execution_count": null,
   "metadata": {
    "colab": {
     "base_uri": "https://localhost:8080/",
     "height": 373
    },
    "id": "AJAV76xUnM6H",
    "outputId": "7b789ff7-8cde-4f43-9954-adf04c5303ba"
   },
   "outputs": [],
   "source": [
    "import pandas as pd \n",
    "import seaborn as sns\n",
    "import matplotlib.pyplot as plt\n",
    "import numpy as np\n",
    "pd.set_option('display.max.columns', 100)\n",
    "plt.style.use('Solarize_Light2')"
   ]
  },
  {
   "cell_type": "code",
   "execution_count": 2,
   "metadata": {
    "colab": {
     "base_uri": "https://localhost:8080/",
     "height": 165
    },
    "id": "Z0KXsjvOnFBS",
    "outputId": "28ab80a8-ac1a-45e9-9d54-6e6338231351"
   },
   "outputs": [],
   "source": [
    "df_comp = pd.read_csv('Crime_Data_from_2010_to_2019.csv')"
   ]
  },
  {
   "cell_type": "code",
   "execution_count": 3,
   "metadata": {
    "colab": {
     "base_uri": "https://localhost:8080/"
    },
    "id": "xnlxJbMbsEEP",
    "outputId": "3ac20050-7144-4751-ea35-ac34c00883d3"
   },
   "outputs": [
    {
     "name": "stdout",
     "output_type": "stream",
     "text": [
      "<class 'pandas.core.frame.DataFrame'>\n",
      "RangeIndex: 2060948 entries, 0 to 2060947\n",
      "Data columns (total 28 columns):\n",
      " #   Column          Dtype  \n",
      "---  ------          -----  \n",
      " 0   DR_NO           int64  \n",
      " 1   Date Rptd       object \n",
      " 2   DATE OCC        object \n",
      " 3   TIME OCC        int64  \n",
      " 4   AREA            int64  \n",
      " 5   AREA NAME       object \n",
      " 6   Rpt Dist No     int64  \n",
      " 7   Part 1-2        int64  \n",
      " 8   Crm Cd          int64  \n",
      " 9   Crm Cd Desc     object \n",
      " 10  Mocodes         object \n",
      " 11  Vict Age        int64  \n",
      " 12  Vict Sex        object \n",
      " 13  Vict Descent    object \n",
      " 14  Premis Cd       float64\n",
      " 15  Premis Desc     object \n",
      " 16  Weapon Used Cd  float64\n",
      " 17  Weapon Desc     object \n",
      " 18  Status          object \n",
      " 19  Status Desc     object \n",
      " 20  Crm Cd 1        float64\n",
      " 21  Crm Cd 2        float64\n",
      " 22  Crm Cd 3        float64\n",
      " 23  Crm Cd 4        float64\n",
      " 24  LOCATION        object \n",
      " 25  Cross Street    object \n",
      " 26  LAT             float64\n",
      " 27  LON             float64\n",
      "dtypes: float64(8), int64(7), object(13)\n",
      "memory usage: 440.3+ MB\n"
     ]
    }
   ],
   "source": [
    "df_comp.info() #variables and type"
   ]
  },
  {
   "cell_type": "code",
   "execution_count": 4,
   "metadata": {
    "colab": {
     "base_uri": "https://localhost:8080/",
     "height": 528
    },
    "id": "8Jn9IvWTsDLv",
    "outputId": "96d4ba18-4a96-43cc-bec2-11c713e630f3"
   },
   "outputs": [
    {
     "data": {
      "text/html": [
       "<div>\n",
       "<style scoped>\n",
       "    .dataframe tbody tr th:only-of-type {\n",
       "        vertical-align: middle;\n",
       "    }\n",
       "\n",
       "    .dataframe tbody tr th {\n",
       "        vertical-align: top;\n",
       "    }\n",
       "\n",
       "    .dataframe thead th {\n",
       "        text-align: right;\n",
       "    }\n",
       "</style>\n",
       "<table border=\"1\" class=\"dataframe\">\n",
       "  <thead>\n",
       "    <tr style=\"text-align: right;\">\n",
       "      <th></th>\n",
       "      <th>DR_NO</th>\n",
       "      <th>Date Rptd</th>\n",
       "      <th>DATE OCC</th>\n",
       "      <th>TIME OCC</th>\n",
       "      <th>AREA</th>\n",
       "      <th>AREA NAME</th>\n",
       "      <th>Rpt Dist No</th>\n",
       "      <th>Part 1-2</th>\n",
       "      <th>Crm Cd</th>\n",
       "      <th>Crm Cd Desc</th>\n",
       "      <th>Mocodes</th>\n",
       "      <th>Vict Age</th>\n",
       "      <th>Vict Sex</th>\n",
       "      <th>Vict Descent</th>\n",
       "      <th>Premis Cd</th>\n",
       "      <th>Premis Desc</th>\n",
       "      <th>Weapon Used Cd</th>\n",
       "      <th>Weapon Desc</th>\n",
       "      <th>Status</th>\n",
       "      <th>Status Desc</th>\n",
       "      <th>Crm Cd 1</th>\n",
       "      <th>Crm Cd 2</th>\n",
       "      <th>Crm Cd 3</th>\n",
       "      <th>Crm Cd 4</th>\n",
       "      <th>LOCATION</th>\n",
       "      <th>Cross Street</th>\n",
       "      <th>LAT</th>\n",
       "      <th>LON</th>\n",
       "    </tr>\n",
       "  </thead>\n",
       "  <tbody>\n",
       "    <tr>\n",
       "      <th>0</th>\n",
       "      <td>1307355</td>\n",
       "      <td>02/20/2010 12:00:00 AM</td>\n",
       "      <td>02/20/2010 12:00:00 AM</td>\n",
       "      <td>1350</td>\n",
       "      <td>13</td>\n",
       "      <td>Newton</td>\n",
       "      <td>1385</td>\n",
       "      <td>2</td>\n",
       "      <td>900</td>\n",
       "      <td>VIOLATION OF COURT ORDER</td>\n",
       "      <td>0913 1814 2000</td>\n",
       "      <td>48</td>\n",
       "      <td>M</td>\n",
       "      <td>H</td>\n",
       "      <td>501.0</td>\n",
       "      <td>SINGLE FAMILY DWELLING</td>\n",
       "      <td>NaN</td>\n",
       "      <td>NaN</td>\n",
       "      <td>AA</td>\n",
       "      <td>Adult Arrest</td>\n",
       "      <td>900.0</td>\n",
       "      <td>NaN</td>\n",
       "      <td>NaN</td>\n",
       "      <td>NaN</td>\n",
       "      <td>300 E  GAGE                         AV</td>\n",
       "      <td>NaN</td>\n",
       "      <td>33.9825</td>\n",
       "      <td>-118.2695</td>\n",
       "    </tr>\n",
       "    <tr>\n",
       "      <th>1</th>\n",
       "      <td>11401303</td>\n",
       "      <td>09/13/2010 12:00:00 AM</td>\n",
       "      <td>09/12/2010 12:00:00 AM</td>\n",
       "      <td>45</td>\n",
       "      <td>14</td>\n",
       "      <td>Pacific</td>\n",
       "      <td>1485</td>\n",
       "      <td>2</td>\n",
       "      <td>740</td>\n",
       "      <td>VANDALISM - FELONY ($400 &amp; OVER, ALL CHURCH VA...</td>\n",
       "      <td>0329</td>\n",
       "      <td>0</td>\n",
       "      <td>M</td>\n",
       "      <td>W</td>\n",
       "      <td>101.0</td>\n",
       "      <td>STREET</td>\n",
       "      <td>NaN</td>\n",
       "      <td>NaN</td>\n",
       "      <td>IC</td>\n",
       "      <td>Invest Cont</td>\n",
       "      <td>740.0</td>\n",
       "      <td>NaN</td>\n",
       "      <td>NaN</td>\n",
       "      <td>NaN</td>\n",
       "      <td>SEPULVEDA                    BL</td>\n",
       "      <td>MANCHESTER                   AV</td>\n",
       "      <td>33.9599</td>\n",
       "      <td>-118.3962</td>\n",
       "    </tr>\n",
       "    <tr>\n",
       "      <th>2</th>\n",
       "      <td>70309629</td>\n",
       "      <td>08/09/2010 12:00:00 AM</td>\n",
       "      <td>08/09/2010 12:00:00 AM</td>\n",
       "      <td>1515</td>\n",
       "      <td>13</td>\n",
       "      <td>Newton</td>\n",
       "      <td>1324</td>\n",
       "      <td>2</td>\n",
       "      <td>946</td>\n",
       "      <td>OTHER MISCELLANEOUS CRIME</td>\n",
       "      <td>0344</td>\n",
       "      <td>0</td>\n",
       "      <td>M</td>\n",
       "      <td>H</td>\n",
       "      <td>103.0</td>\n",
       "      <td>ALLEY</td>\n",
       "      <td>NaN</td>\n",
       "      <td>NaN</td>\n",
       "      <td>IC</td>\n",
       "      <td>Invest Cont</td>\n",
       "      <td>946.0</td>\n",
       "      <td>NaN</td>\n",
       "      <td>NaN</td>\n",
       "      <td>NaN</td>\n",
       "      <td>1300 E  21ST                         ST</td>\n",
       "      <td>NaN</td>\n",
       "      <td>34.0224</td>\n",
       "      <td>-118.2524</td>\n",
       "    </tr>\n",
       "    <tr>\n",
       "      <th>3</th>\n",
       "      <td>90631215</td>\n",
       "      <td>01/05/2010 12:00:00 AM</td>\n",
       "      <td>01/05/2010 12:00:00 AM</td>\n",
       "      <td>150</td>\n",
       "      <td>6</td>\n",
       "      <td>Hollywood</td>\n",
       "      <td>646</td>\n",
       "      <td>2</td>\n",
       "      <td>900</td>\n",
       "      <td>VIOLATION OF COURT ORDER</td>\n",
       "      <td>1100 0400 1402</td>\n",
       "      <td>47</td>\n",
       "      <td>F</td>\n",
       "      <td>W</td>\n",
       "      <td>101.0</td>\n",
       "      <td>STREET</td>\n",
       "      <td>102.0</td>\n",
       "      <td>HAND GUN</td>\n",
       "      <td>IC</td>\n",
       "      <td>Invest Cont</td>\n",
       "      <td>900.0</td>\n",
       "      <td>998.0</td>\n",
       "      <td>NaN</td>\n",
       "      <td>NaN</td>\n",
       "      <td>CAHUENGA                     BL</td>\n",
       "      <td>HOLLYWOOD                    BL</td>\n",
       "      <td>34.1016</td>\n",
       "      <td>-118.3295</td>\n",
       "    </tr>\n",
       "    <tr>\n",
       "      <th>4</th>\n",
       "      <td>100100501</td>\n",
       "      <td>01/03/2010 12:00:00 AM</td>\n",
       "      <td>01/02/2010 12:00:00 AM</td>\n",
       "      <td>2100</td>\n",
       "      <td>1</td>\n",
       "      <td>Central</td>\n",
       "      <td>176</td>\n",
       "      <td>1</td>\n",
       "      <td>122</td>\n",
       "      <td>RAPE, ATTEMPTED</td>\n",
       "      <td>0400</td>\n",
       "      <td>47</td>\n",
       "      <td>F</td>\n",
       "      <td>H</td>\n",
       "      <td>103.0</td>\n",
       "      <td>ALLEY</td>\n",
       "      <td>400.0</td>\n",
       "      <td>STRONG-ARM (HANDS, FIST, FEET OR BODILY FORCE)</td>\n",
       "      <td>IC</td>\n",
       "      <td>Invest Cont</td>\n",
       "      <td>122.0</td>\n",
       "      <td>NaN</td>\n",
       "      <td>NaN</td>\n",
       "      <td>NaN</td>\n",
       "      <td>8TH                          ST</td>\n",
       "      <td>SAN PEDRO                    ST</td>\n",
       "      <td>34.0387</td>\n",
       "      <td>-118.2488</td>\n",
       "    </tr>\n",
       "  </tbody>\n",
       "</table>\n",
       "</div>"
      ],
      "text/plain": [
       "       DR_NO               Date Rptd                DATE OCC  TIME OCC  AREA   \\\n",
       "0    1307355  02/20/2010 12:00:00 AM  02/20/2010 12:00:00 AM      1350     13   \n",
       "1   11401303  09/13/2010 12:00:00 AM  09/12/2010 12:00:00 AM        45     14   \n",
       "2   70309629  08/09/2010 12:00:00 AM  08/09/2010 12:00:00 AM      1515     13   \n",
       "3   90631215  01/05/2010 12:00:00 AM  01/05/2010 12:00:00 AM       150      6   \n",
       "4  100100501  01/03/2010 12:00:00 AM  01/02/2010 12:00:00 AM      2100      1   \n",
       "\n",
       "   AREA NAME  Rpt Dist No  Part 1-2  Crm Cd  \\\n",
       "0     Newton         1385         2     900   \n",
       "1    Pacific         1485         2     740   \n",
       "2     Newton         1324         2     946   \n",
       "3  Hollywood          646         2     900   \n",
       "4    Central          176         1     122   \n",
       "\n",
       "                                         Crm Cd Desc         Mocodes  \\\n",
       "0                           VIOLATION OF COURT ORDER  0913 1814 2000   \n",
       "1  VANDALISM - FELONY ($400 & OVER, ALL CHURCH VA...            0329   \n",
       "2                          OTHER MISCELLANEOUS CRIME            0344   \n",
       "3                           VIOLATION OF COURT ORDER  1100 0400 1402   \n",
       "4                                    RAPE, ATTEMPTED            0400   \n",
       "\n",
       "   Vict Age Vict Sex Vict Descent  Premis Cd             Premis Desc  \\\n",
       "0        48        M            H      501.0  SINGLE FAMILY DWELLING   \n",
       "1         0        M            W      101.0                  STREET   \n",
       "2         0        M            H      103.0                   ALLEY   \n",
       "3        47        F            W      101.0                  STREET   \n",
       "4        47        F            H      103.0                   ALLEY   \n",
       "\n",
       "   Weapon Used Cd                                     Weapon Desc Status  \\\n",
       "0             NaN                                             NaN     AA   \n",
       "1             NaN                                             NaN     IC   \n",
       "2             NaN                                             NaN     IC   \n",
       "3           102.0                                        HAND GUN     IC   \n",
       "4           400.0  STRONG-ARM (HANDS, FIST, FEET OR BODILY FORCE)     IC   \n",
       "\n",
       "    Status Desc  Crm Cd 1  Crm Cd 2  Crm Cd 3  Crm Cd 4  \\\n",
       "0  Adult Arrest     900.0       NaN       NaN       NaN   \n",
       "1   Invest Cont     740.0       NaN       NaN       NaN   \n",
       "2   Invest Cont     946.0       NaN       NaN       NaN   \n",
       "3   Invest Cont     900.0     998.0       NaN       NaN   \n",
       "4   Invest Cont     122.0       NaN       NaN       NaN   \n",
       "\n",
       "                                  LOCATION                     Cross Street  \\\n",
       "0   300 E  GAGE                         AV                              NaN   \n",
       "1          SEPULVEDA                    BL  MANCHESTER                   AV   \n",
       "2  1300 E  21ST                         ST                              NaN   \n",
       "3          CAHUENGA                     BL  HOLLYWOOD                    BL   \n",
       "4          8TH                          ST  SAN PEDRO                    ST   \n",
       "\n",
       "       LAT       LON  \n",
       "0  33.9825 -118.2695  \n",
       "1  33.9599 -118.3962  \n",
       "2  34.0224 -118.2524  \n",
       "3  34.1016 -118.3295  \n",
       "4  34.0387 -118.2488  "
      ]
     },
     "execution_count": 4,
     "metadata": {},
     "output_type": "execute_result"
    }
   ],
   "source": [
    "df_comp.head()    #first 5 rows"
   ]
  },
  {
   "cell_type": "markdown",
   "metadata": {
    "id": "mTN4Z_CqrPN0"
   },
   "source": [
    "#### Variables Names \n",
    "\n",
    "\n",
    "* DR_NO\n",
    "* Date Rptd\n",
    "* DATE OCC\n",
    "* TIME OCC\n",
    "* AREA\n",
    "* AREA NAME\n",
    "* Rpt Dist No\n",
    "* Part 1-2\n",
    "* Crm Cd\n",
    "* Crm Cd Desc\n",
    "* Mocodes\n",
    "* Vict Age\n",
    "* Vict Sex\n",
    "* Vict Descent\n",
    "* Premis Cd\n",
    "* Premis Desc\n",
    "* Weapon Used Cd\n",
    "* Weapon Desc\n",
    "* Status\n",
    "* Status Desc\n",
    "* Crm Cd 1\n",
    "* Crm Cd 2\n",
    "* Crm Cd 3\n",
    "* Crm Cd 4\n",
    "* LOCATION\n",
    "* Cross Street\n",
    "* LAT"
   ]
  },
  {
   "cell_type": "code",
   "execution_count": 5,
   "metadata": {
    "id": "MiPB9cqErH6P"
   },
   "outputs": [],
   "source": [
    "# dropping columns without value\n",
    "df = df_comp.drop(labels=['DR_NO', 'Date Rptd', 'Rpt Dist No', 'Crm Cd', 'Mocodes', 'Premis Cd', 'Weapon Used Cd', 'Status', 'Crm Cd 1','Crm Cd 2','Crm Cd 3','Crm Cd 4'], axis=1)"
   ]
  },
  {
   "cell_type": "code",
   "execution_count": 6,
   "metadata": {
    "colab": {
     "base_uri": "https://localhost:8080/",
     "height": 339
    },
    "id": "Ggcy18TkVH6c",
    "outputId": "bcdbcf2c-e32f-4028-9f30-0dd0299b3566"
   },
   "outputs": [
    {
     "data": {
      "text/html": [
       "<div>\n",
       "<style scoped>\n",
       "    .dataframe tbody tr th:only-of-type {\n",
       "        vertical-align: middle;\n",
       "    }\n",
       "\n",
       "    .dataframe tbody tr th {\n",
       "        vertical-align: top;\n",
       "    }\n",
       "\n",
       "    .dataframe thead th {\n",
       "        text-align: right;\n",
       "    }\n",
       "</style>\n",
       "<table border=\"1\" class=\"dataframe\">\n",
       "  <thead>\n",
       "    <tr style=\"text-align: right;\">\n",
       "      <th></th>\n",
       "      <th>DATE OCC</th>\n",
       "      <th>TIME OCC</th>\n",
       "      <th>AREA</th>\n",
       "      <th>AREA NAME</th>\n",
       "      <th>Part 1-2</th>\n",
       "      <th>Crm Cd Desc</th>\n",
       "      <th>Vict Age</th>\n",
       "      <th>Vict Sex</th>\n",
       "      <th>Vict Descent</th>\n",
       "      <th>Premis Desc</th>\n",
       "      <th>Weapon Desc</th>\n",
       "      <th>Status Desc</th>\n",
       "      <th>LOCATION</th>\n",
       "      <th>Cross Street</th>\n",
       "      <th>LAT</th>\n",
       "      <th>LON</th>\n",
       "    </tr>\n",
       "  </thead>\n",
       "  <tbody>\n",
       "    <tr>\n",
       "      <th>0</th>\n",
       "      <td>02/20/2010 12:00:00 AM</td>\n",
       "      <td>1350</td>\n",
       "      <td>13</td>\n",
       "      <td>Newton</td>\n",
       "      <td>2</td>\n",
       "      <td>VIOLATION OF COURT ORDER</td>\n",
       "      <td>48</td>\n",
       "      <td>M</td>\n",
       "      <td>H</td>\n",
       "      <td>SINGLE FAMILY DWELLING</td>\n",
       "      <td>NaN</td>\n",
       "      <td>Adult Arrest</td>\n",
       "      <td>300 E  GAGE                         AV</td>\n",
       "      <td>NaN</td>\n",
       "      <td>33.9825</td>\n",
       "      <td>-118.2695</td>\n",
       "    </tr>\n",
       "    <tr>\n",
       "      <th>1</th>\n",
       "      <td>09/12/2010 12:00:00 AM</td>\n",
       "      <td>45</td>\n",
       "      <td>14</td>\n",
       "      <td>Pacific</td>\n",
       "      <td>2</td>\n",
       "      <td>VANDALISM - FELONY ($400 &amp; OVER, ALL CHURCH VA...</td>\n",
       "      <td>0</td>\n",
       "      <td>M</td>\n",
       "      <td>W</td>\n",
       "      <td>STREET</td>\n",
       "      <td>NaN</td>\n",
       "      <td>Invest Cont</td>\n",
       "      <td>SEPULVEDA                    BL</td>\n",
       "      <td>MANCHESTER                   AV</td>\n",
       "      <td>33.9599</td>\n",
       "      <td>-118.3962</td>\n",
       "    </tr>\n",
       "    <tr>\n",
       "      <th>2</th>\n",
       "      <td>08/09/2010 12:00:00 AM</td>\n",
       "      <td>1515</td>\n",
       "      <td>13</td>\n",
       "      <td>Newton</td>\n",
       "      <td>2</td>\n",
       "      <td>OTHER MISCELLANEOUS CRIME</td>\n",
       "      <td>0</td>\n",
       "      <td>M</td>\n",
       "      <td>H</td>\n",
       "      <td>ALLEY</td>\n",
       "      <td>NaN</td>\n",
       "      <td>Invest Cont</td>\n",
       "      <td>1300 E  21ST                         ST</td>\n",
       "      <td>NaN</td>\n",
       "      <td>34.0224</td>\n",
       "      <td>-118.2524</td>\n",
       "    </tr>\n",
       "    <tr>\n",
       "      <th>3</th>\n",
       "      <td>01/05/2010 12:00:00 AM</td>\n",
       "      <td>150</td>\n",
       "      <td>6</td>\n",
       "      <td>Hollywood</td>\n",
       "      <td>2</td>\n",
       "      <td>VIOLATION OF COURT ORDER</td>\n",
       "      <td>47</td>\n",
       "      <td>F</td>\n",
       "      <td>W</td>\n",
       "      <td>STREET</td>\n",
       "      <td>HAND GUN</td>\n",
       "      <td>Invest Cont</td>\n",
       "      <td>CAHUENGA                     BL</td>\n",
       "      <td>HOLLYWOOD                    BL</td>\n",
       "      <td>34.1016</td>\n",
       "      <td>-118.3295</td>\n",
       "    </tr>\n",
       "    <tr>\n",
       "      <th>4</th>\n",
       "      <td>01/02/2010 12:00:00 AM</td>\n",
       "      <td>2100</td>\n",
       "      <td>1</td>\n",
       "      <td>Central</td>\n",
       "      <td>1</td>\n",
       "      <td>RAPE, ATTEMPTED</td>\n",
       "      <td>47</td>\n",
       "      <td>F</td>\n",
       "      <td>H</td>\n",
       "      <td>ALLEY</td>\n",
       "      <td>STRONG-ARM (HANDS, FIST, FEET OR BODILY FORCE)</td>\n",
       "      <td>Invest Cont</td>\n",
       "      <td>8TH                          ST</td>\n",
       "      <td>SAN PEDRO                    ST</td>\n",
       "      <td>34.0387</td>\n",
       "      <td>-118.2488</td>\n",
       "    </tr>\n",
       "  </tbody>\n",
       "</table>\n",
       "</div>"
      ],
      "text/plain": [
       "                 DATE OCC  TIME OCC  AREA   AREA NAME  Part 1-2  \\\n",
       "0  02/20/2010 12:00:00 AM      1350     13     Newton         2   \n",
       "1  09/12/2010 12:00:00 AM        45     14    Pacific         2   \n",
       "2  08/09/2010 12:00:00 AM      1515     13     Newton         2   \n",
       "3  01/05/2010 12:00:00 AM       150      6  Hollywood         2   \n",
       "4  01/02/2010 12:00:00 AM      2100      1    Central         1   \n",
       "\n",
       "                                         Crm Cd Desc  Vict Age Vict Sex  \\\n",
       "0                           VIOLATION OF COURT ORDER        48        M   \n",
       "1  VANDALISM - FELONY ($400 & OVER, ALL CHURCH VA...         0        M   \n",
       "2                          OTHER MISCELLANEOUS CRIME         0        M   \n",
       "3                           VIOLATION OF COURT ORDER        47        F   \n",
       "4                                    RAPE, ATTEMPTED        47        F   \n",
       "\n",
       "  Vict Descent             Premis Desc  \\\n",
       "0            H  SINGLE FAMILY DWELLING   \n",
       "1            W                  STREET   \n",
       "2            H                   ALLEY   \n",
       "3            W                  STREET   \n",
       "4            H                   ALLEY   \n",
       "\n",
       "                                      Weapon Desc   Status Desc  \\\n",
       "0                                             NaN  Adult Arrest   \n",
       "1                                             NaN   Invest Cont   \n",
       "2                                             NaN   Invest Cont   \n",
       "3                                        HAND GUN   Invest Cont   \n",
       "4  STRONG-ARM (HANDS, FIST, FEET OR BODILY FORCE)   Invest Cont   \n",
       "\n",
       "                                  LOCATION                     Cross Street  \\\n",
       "0   300 E  GAGE                         AV                              NaN   \n",
       "1          SEPULVEDA                    BL  MANCHESTER                   AV   \n",
       "2  1300 E  21ST                         ST                              NaN   \n",
       "3          CAHUENGA                     BL  HOLLYWOOD                    BL   \n",
       "4          8TH                          ST  SAN PEDRO                    ST   \n",
       "\n",
       "       LAT       LON  \n",
       "0  33.9825 -118.2695  \n",
       "1  33.9599 -118.3962  \n",
       "2  34.0224 -118.2524  \n",
       "3  34.1016 -118.3295  \n",
       "4  34.0387 -118.2488  "
      ]
     },
     "execution_count": 6,
     "metadata": {},
     "output_type": "execute_result"
    }
   ],
   "source": [
    "df.head()"
   ]
  },
  {
   "cell_type": "markdown",
   "metadata": {
    "id": "1paHBPL7rEoW"
   },
   "source": [
    "### Null analysis"
   ]
  },
  {
   "cell_type": "code",
   "execution_count": 7,
   "metadata": {
    "colab": {
     "base_uri": "https://localhost:8080/",
     "height": 345
    },
    "id": "vJUnwprvrCqo",
    "outputId": "cf209677-9f31-4b4e-893d-d1df6dec4464"
   },
   "outputs": [
    {
     "data": {
      "text/plain": [
       "<AxesSubplot:>"
      ]
     },
     "execution_count": 7,
     "metadata": {},
     "output_type": "execute_result"
    },
    {
     "data": {
      "image/png": "[encoded data removed]",
      "text/plain": [
       "<Figure size 432x288 with 2 Axes>"
      ]
     },
     "metadata": {},
     "output_type": "display_data"
    }
   ],
   "source": [
    "sns.heatmap(df.isna())    # where are the null values"
   ]
  },
  {
   "cell_type": "markdown",
   "metadata": {
    "id": "BI1vRpcXsVHU"
   },
   "source": [
    "### Variable Vict Sex"
   ]
  },
  {
   "cell_type": "code",
   "execution_count": 8,
   "metadata": {
    "colab": {
     "base_uri": "https://localhost:8080/"
    },
    "id": "OV3nksaSrBnr",
    "outputId": "ed05c735-ea0b-4c28-99ca-1baa2efb7a97"
   },
   "outputs": [
    {
     "data": {
      "text/plain": [
       "array(['M', 'F', nan, 'X', 'H', '-', 'N'], dtype=object)"
      ]
     },
     "execution_count": 8,
     "metadata": {},
     "output_type": "execute_result"
    }
   ],
   "source": [
    "#creating categories\n",
    "df['Vict Sex'].unique()"
   ]
  },
  {
   "cell_type": "code",
   "execution_count": 9,
   "metadata": {
    "id": "btXQ3k7WrA0k"
   },
   "outputs": [],
   "source": [
    "df.loc[df['Vict Sex'].isin(['X',None,'H']), 'Vict Sex'] = 'U'      # U Unknown"
   ]
  },
  {
   "cell_type": "code",
   "execution_count": 10,
   "metadata": {
    "colab": {
     "base_uri": "https://localhost:8080/"
    },
    "id": "m2w3yCccq_na",
    "outputId": "a1385701-af06-456d-9170-b644227e8425"
   },
   "outputs": [
    {
     "data": {
      "text/plain": [
       "array(['M', 'F', nan, 'U', '-', 'N'], dtype=object)"
      ]
     },
     "execution_count": 10,
     "metadata": {},
     "output_type": "execute_result"
    }
   ],
   "source": [
    "df['Vict Sex'].unique()                                            # checking"
   ]
  },
  {
   "cell_type": "code",
   "execution_count": 11,
   "metadata": {
    "colab": {
     "base_uri": "https://localhost:8080/"
    },
    "id": "sPU-ZhXfq-mu",
    "outputId": "a0bc81ea-19f4-4263-fd04-9fd412c4cd82"
   },
   "outputs": [
    {
     "data": {
      "text/plain": [
       "M    941280\n",
       "F    851605\n",
       "U     66580\n",
       "N        17\n",
       "-         1\n",
       "Name: Vict Sex, dtype: int64"
      ]
     },
     "execution_count": 11,
     "metadata": {},
     "output_type": "execute_result"
    }
   ],
   "source": [
    "df['Vict Sex'].value_counts()"
   ]
  },
  {
   "cell_type": "markdown",
   "metadata": {
    "id": "BAycu7Vw7dp-"
   },
   "source": [
    "#### Variable Vict Descent\n",
    "* A - Other Asian\n",
    "* B - Black \n",
    "* C - Chinese\n",
    "* D - Cambodian \n",
    "* F - Filipino \n",
    "* G - Guamanian \n",
    "* H - Hispanic/Latin/Mexican \n",
    "* I - American Indian/Alaskan Native \n",
    "* J - Japanese \n",
    "* K - Korean \n",
    "* L - Laotian \n",
    "* O - Other \n",
    "* P - Pacific Islander \n",
    "* S - Samoan \n",
    "* U - Hawaiian \n",
    "* V - Vietnamese \n",
    "* W - White \n",
    "* X - Unknown \n",
    "* Z - Asian Indian"
   ]
  },
  {
   "cell_type": "code",
   "execution_count": 12,
   "metadata": {
    "colab": {
     "base_uri": "https://localhost:8080/"
    },
    "id": "kBEBqyizq50Y",
    "outputId": "9179d9f7-b54c-4dbf-8650-7392cff1acba"
   },
   "outputs": [
    {
     "data": {
      "text/plain": [
       "array(['H', 'W', 'B', 'A', 'O', 'X', 'K', nan, 'I', 'J', 'F', 'C', 'P',\n",
       "       'V', 'U', 'G', 'D', 'S', 'Z', 'L', '-'], dtype=object)"
      ]
     },
     "execution_count": 12,
     "metadata": {},
     "output_type": "execute_result"
    }
   ],
   "source": [
    "df['Vict Descent'].unique()"
   ]
  },
  {
   "cell_type": "code",
   "execution_count": 13,
   "metadata": {
    "colab": {
     "base_uri": "https://localhost:8080/"
    },
    "id": "WeFK8kF6q451",
    "outputId": "4cf395b0-322b-49a8-b9d3-e5a15244edb4"
   },
   "outputs": [
    {
     "data": {
      "text/plain": [
       "False    1859440\n",
       "True      201508\n",
       "Name: Vict Descent, dtype: int64"
      ]
     },
     "execution_count": 13,
     "metadata": {},
     "output_type": "execute_result"
    }
   ],
   "source": [
    "df['Vict Descent'].isna().value_counts()"
   ]
  },
  {
   "cell_type": "code",
   "execution_count": 14,
   "metadata": {
    "id": "HkIw6Ua4q3_O"
   },
   "outputs": [],
   "source": [
    "df.loc[df['Vict Descent'].isin([None, 'X']), 'Vict Descent'] = 'O'   # Juntamos a los NA con la categoría O-Other y X-Unknown"
   ]
  },
  {
   "cell_type": "code",
   "execution_count": 15,
   "metadata": {
    "colab": {
     "base_uri": "https://localhost:8080/"
    },
    "id": "bPiA5DWHq3JB",
    "outputId": "729da1bf-8945-4063-fc1e-5ec5df1b6aa4"
   },
   "outputs": [
    {
     "data": {
      "text/plain": [
       "array(['H', 'W', 'B', 'A', 'O', 'K', nan, 'I', 'J', 'F', 'C', 'P', 'V',\n",
       "       'U', 'G', 'D', 'S', 'Z', 'L', '-'], dtype=object)"
      ]
     },
     "execution_count": 15,
     "metadata": {},
     "output_type": "execute_result"
    }
   ],
   "source": [
    "df['Vict Descent'].unique()"
   ]
  },
  {
   "cell_type": "code",
   "execution_count": 16,
   "metadata": {
    "colab": {
     "base_uri": "https://localhost:8080/"
    },
    "id": "MkwPRfvrq2Kh",
    "outputId": "b0c63919-46cb-4628-bff3-21dd60705c4e"
   },
   "outputs": [
    {
     "data": {
      "text/plain": [
       "H    699431\n",
       "W    487037\n",
       "B    324406\n",
       "O    283076\n",
       "A     49326\n",
       "K      8845\n",
       "F      3078\n",
       "C      1385\n",
       "I      1008\n",
       "J       590\n",
       "P       343\n",
       "V       333\n",
       "U       218\n",
       "Z       182\n",
       "G        92\n",
       "S        34\n",
       "D        30\n",
       "L        24\n",
       "-         2\n",
       "Name: Vict Descent, dtype: int64"
      ]
     },
     "execution_count": 16,
     "metadata": {},
     "output_type": "execute_result"
    }
   ],
   "source": [
    "df['Vict Descent'].value_counts()"
   ]
  },
  {
   "cell_type": "markdown",
   "metadata": {
    "id": "OMGKxPLYsaJ0"
   },
   "source": [
    "### Variable Vict Age"
   ]
  },
  {
   "cell_type": "code",
   "execution_count": 17,
   "metadata": {
    "colab": {
     "base_uri": "https://localhost:8080/"
    },
    "id": "TnrT0Oy7q1fM",
    "outputId": "b2ff0f7a-8465-4d1c-fe9f-e0d808dcaac3"
   },
   "outputs": [
    {
     "data": {
      "text/plain": [
       "array([ 48,   0,  47,  23,  46,  51,  30,  55,  38,  40,  24,  29,  41,\n",
       "        11,  50,  18,  37,  28,  25,  31,  36,  61,  27,  32,  45,  22,\n",
       "        35,  44,  20,  33,  26,  52,  62,  39,  54,  76,  16,  21,  57,\n",
       "        34,  65,   5,  49,  58,  56,  59,  42,   9,  60,  92,  43,  19,\n",
       "        15,  17,  63,  83,   6,  13,  12,   7,  53,  10,  99,  74,  84,\n",
       "        68,  82,  66,  64,  14,  69,  70,  71,  73,  78,  67,  80,  81,\n",
       "        72,  86,  79,  75,  77,   2,   4,   8,  93,  85,   3,  91,  89,\n",
       "        87,  90,  88,  96,  95,  97,  98,  94,  -3,  -1,  -6,  -8,  -5,\n",
       "        -2,  -9,  -4, -10, -11,  -7, 120, 114, 118], dtype=int64)"
      ]
     },
     "execution_count": 17,
     "metadata": {},
     "output_type": "execute_result"
    }
   ],
   "source": [
    "df['Vict Age'].unique()"
   ]
  },
  {
   "cell_type": "code",
   "execution_count": 18,
   "metadata": {
    "colab": {
     "base_uri": "https://localhost:8080/"
    },
    "id": "pHsGOSmAq0v0",
    "outputId": "cb4bfbdc-eefb-4800-d40a-ca0f16ab5604"
   },
   "outputs": [
    {
     "data": {
      "text/plain": [
       " 0      376565\n",
       " 25      46321\n",
       " 26      45825\n",
       " 27      45591\n",
       " 28      45468\n",
       "         ...  \n",
       "-10          2\n",
       "-11          1\n",
       " 120         1\n",
       " 114         1\n",
       " 118         1\n",
       "Name: Vict Age, Length: 113, dtype: int64"
      ]
     },
     "execution_count": 18,
     "metadata": {},
     "output_type": "execute_result"
    }
   ],
   "source": [
    "df['Vict Age'].value_counts()"
   ]
  },
  {
   "cell_type": "code",
   "execution_count": 19,
   "metadata": {
    "colab": {
     "base_uri": "https://localhost:8080/",
     "height": 114
    },
    "id": "qgUBMBAhqxiw",
    "outputId": "af6126c5-855e-4012-f89e-23503229e7fe"
   },
   "outputs": [
    {
     "data": {
      "text/html": [
       "<div>\n",
       "<style scoped>\n",
       "    .dataframe tbody tr th:only-of-type {\n",
       "        vertical-align: middle;\n",
       "    }\n",
       "\n",
       "    .dataframe tbody tr th {\n",
       "        vertical-align: top;\n",
       "    }\n",
       "\n",
       "    .dataframe thead th {\n",
       "        text-align: right;\n",
       "    }\n",
       "</style>\n",
       "<table border=\"1\" class=\"dataframe\">\n",
       "  <thead>\n",
       "    <tr style=\"text-align: right;\">\n",
       "      <th></th>\n",
       "      <th>DATE OCC</th>\n",
       "      <th>TIME OCC</th>\n",
       "      <th>AREA</th>\n",
       "      <th>AREA NAME</th>\n",
       "      <th>Part 1-2</th>\n",
       "      <th>Crm Cd Desc</th>\n",
       "      <th>Vict Age</th>\n",
       "      <th>Vict Sex</th>\n",
       "      <th>Vict Descent</th>\n",
       "      <th>Premis Desc</th>\n",
       "      <th>Weapon Desc</th>\n",
       "      <th>Status Desc</th>\n",
       "      <th>LOCATION</th>\n",
       "      <th>Cross Street</th>\n",
       "      <th>LAT</th>\n",
       "      <th>LON</th>\n",
       "    </tr>\n",
       "  </thead>\n",
       "  <tbody>\n",
       "    <tr>\n",
       "      <th>552830</th>\n",
       "      <td>04/19/2020 12:00:00 AM</td>\n",
       "      <td>2145</td>\n",
       "      <td>8</td>\n",
       "      <td>West LA</td>\n",
       "      <td>1</td>\n",
       "      <td>ASSAULT WITH DEADLY WEAPON, AGGRAVATED ASSAULT</td>\n",
       "      <td>120</td>\n",
       "      <td>NaN</td>\n",
       "      <td>NaN</td>\n",
       "      <td>STREET</td>\n",
       "      <td>SEMI-AUTOMATIC PISTOL</td>\n",
       "      <td>Invest Cont</td>\n",
       "      <td>2000 S  BEDFORD                      ST</td>\n",
       "      <td>NaN</td>\n",
       "      <td>34.0416</td>\n",
       "      <td>-118.3836</td>\n",
       "    </tr>\n",
       "  </tbody>\n",
       "</table>\n",
       "</div>"
      ],
      "text/plain": [
       "                      DATE OCC  TIME OCC  AREA  AREA NAME  Part 1-2  \\\n",
       "552830  04/19/2020 12:00:00 AM      2145      8   West LA         1   \n",
       "\n",
       "                                           Crm Cd Desc  Vict Age Vict Sex  \\\n",
       "552830  ASSAULT WITH DEADLY WEAPON, AGGRAVATED ASSAULT       120      NaN   \n",
       "\n",
       "       Vict Descent Premis Desc            Weapon Desc  Status Desc  \\\n",
       "552830          NaN      STREET  SEMI-AUTOMATIC PISTOL  Invest Cont   \n",
       "\n",
       "                                       LOCATION Cross Street      LAT  \\\n",
       "552830  2000 S  BEDFORD                      ST          NaN  34.0416   \n",
       "\n",
       "             LON  \n",
       "552830 -118.3836  "
      ]
     },
     "execution_count": 19,
     "metadata": {},
     "output_type": "execute_result"
    }
   ],
   "source": [
    "df[df['Vict Age']==120] #Outlier"
   ]
  },
  {
   "cell_type": "code",
   "execution_count": 20,
   "metadata": {
    "id": "BrC8tJ_6qwmd"
   },
   "outputs": [],
   "source": [
    "df.loc[df['Vict Age'].isin([-1,120]), 'Vict Age'] = 0   # Le ponemos el valor numérico 0, que ya tiene valores. Suponemos que son datos desconocidos. "
   ]
  },
  {
   "cell_type": "code",
   "execution_count": 21,
   "metadata": {
    "colab": {
     "base_uri": "https://localhost:8080/"
    },
    "id": "VbDUHVqzqvrP",
    "outputId": "17c21dcd-118b-449c-d03d-e022f1fba38e"
   },
   "outputs": [
    {
     "data": {
      "text/plain": [
       "array([ 48,   0,  47,  23,  46,  51,  30,  55,  38,  40,  24,  29,  41,\n",
       "        11,  50,  18,  37,  28,  25,  31,  36,  61,  27,  32,  45,  22,\n",
       "        35,  44,  20,  33,  26,  52,  62,  39,  54,  76,  16,  21,  57,\n",
       "        34,  65,   5,  49,  58,  56,  59,  42,   9,  60,  92,  43,  19,\n",
       "        15,  17,  63,  83,   6,  13,  12,   7,  53,  10,  99,  74,  84,\n",
       "        68,  82,  66,  64,  14,  69,  70,  71,  73,  78,  67,  80,  81,\n",
       "        72,  86,  79,  75,  77,   2,   4,   8,  93,  85,   3,  91,  89,\n",
       "        87,  90,  88,  96,  95,  97,  98,  94,  -3,  -6,  -8,  -5,  -2,\n",
       "        -9,  -4, -10, -11,  -7, 114, 118], dtype=int64)"
      ]
     },
     "execution_count": 21,
     "metadata": {},
     "output_type": "execute_result"
    }
   ],
   "source": [
    "df['Vict Age'].unique()"
   ]
  },
  {
   "cell_type": "code",
   "execution_count": 22,
   "metadata": {
    "colab": {
     "base_uri": "https://localhost:8080/"
    },
    "id": "8FA9cKQp7ay6",
    "outputId": "791f122a-9358-45ea-f0cd-ba11e3a5c644"
   },
   "outputs": [
    {
     "name": "stdout",
     "output_type": "stream",
     "text": [
      "<class 'pandas.core.frame.DataFrame'>\n",
      "RangeIndex: 2060948 entries, 0 to 2060947\n",
      "Data columns (total 16 columns):\n",
      " #   Column        Dtype  \n",
      "---  ------        -----  \n",
      " 0   DATE OCC      object \n",
      " 1   TIME OCC      int64  \n",
      " 2   AREA          int64  \n",
      " 3   AREA NAME     object \n",
      " 4   Part 1-2      int64  \n",
      " 5   Crm Cd Desc   object \n",
      " 6   Vict Age      int64  \n",
      " 7   Vict Sex      object \n",
      " 8   Vict Descent  object \n",
      " 9   Premis Desc   object \n",
      " 10  Weapon Desc   object \n",
      " 11  Status Desc   object \n",
      " 12  LOCATION      object \n",
      " 13  Cross Street  object \n",
      " 14  LAT           float64\n",
      " 15  LON           float64\n",
      "dtypes: float64(2), int64(4), object(10)\n",
      "memory usage: 251.6+ MB\n"
     ]
    }
   ],
   "source": [
    "df.info()"
   ]
  },
  {
   "cell_type": "markdown",
   "metadata": {
    "id": "UIGtKnbPscDY"
   },
   "source": [
    "### Variable Weapon Desc"
   ]
  },
  {
   "cell_type": "code",
   "execution_count": 23,
   "metadata": {
    "colab": {
     "base_uri": "https://localhost:8080/"
    },
    "id": "CWKNBWXxqtqE",
    "outputId": "62c081ab-d12b-406d-e1e9-910b5dfd88bd"
   },
   "outputs": [
    {
     "data": {
      "text/plain": [
       "array([nan, 'HAND GUN', 'STRONG-ARM (HANDS, FIST, FEET OR BODILY FORCE)',\n",
       "       'UNKNOWN WEAPON/OTHER WEAPON', 'VERBAL THREAT', 'SIMULATED GUN',\n",
       "       'FOLDING KNIFE', 'OTHER KNIFE', 'MACE/PEPPER SPRAY', 'STICK',\n",
       "       'UNKNOWN FIREARM', 'SWITCH BLADE',\n",
       "       'KNIFE WITH BLADE 6INCHES OR LESS', 'BOARD', 'BLUNT INSTRUMENT',\n",
       "       'SEMI-AUTOMATIC PISTOL', 'VEHICLE', 'OTHER CUTTING INSTRUMENT',\n",
       "       'SCISSORS', 'BOTTLE', 'KNIFE WITH BLADE OVER 6 INCHES IN LENGTH',\n",
       "       'BELT FLAILING INSTRUMENT/CHAIN',\n",
       "       'AUTOMATIC WEAPON/SUB-MACHINE GUN', 'CLUB/BAT', 'BRASS KNUCKLES',\n",
       "       'KITCHEN KNIFE', 'AIR PISTOL/REVOLVER/RIFLE/BB GUN', 'SCREWDRIVER',\n",
       "       'FIRE', 'STUN GUN', 'RIFLE', 'RAZOR BLADE', 'DIRK/DAGGER',\n",
       "       'CAUSTIC CHEMICAL/POISON', 'SHOTGUN', 'ICE PICK', 'BOMB THREAT',\n",
       "       'ROCK/THROWN OBJECT', 'REVOLVER', 'OTHER FIREARM', 'DEMAND NOTE',\n",
       "       'BOWIE KNIFE', 'HECKLER & KOCH 93 SEMIAUTOMATIC ASSAULT RIFLE',\n",
       "       'SCALDING LIQUID', 'ROPE/LIGATURE', 'MACHETE', 'TOY GUN',\n",
       "       'UZI SEMIAUTOMATIC ASSAULT RIFLE', 'SAWED OFF RIFLE/SHOTGUN',\n",
       "       'SWORD', 'HECKLER & KOCH 91 SEMIAUTOMATIC ASSAULT RIFLE',\n",
       "       'ASSAULT WEAPON/UZI/AK47/ETC', 'EXPLOXIVE DEVICE', 'LIQUOR/DRUGS',\n",
       "       'FIXED OBJECT', 'SEMI-AUTOMATIC RIFLE', 'RAZOR', 'TIRE IRON',\n",
       "       'STARTER PISTOL/REVOLVER', 'AXE', 'MARTIAL ARTS WEAPONS',\n",
       "       'CLEAVER', 'STRAIGHT RAZOR',\n",
       "       'UNK TYPE SEMIAUTOMATIC ASSAULT RIFLE', 'PHYSICAL PRESENCE',\n",
       "       'UNKNOWN TYPE CUTTING INSTRUMENT', 'BLACKJACK', 'BOW AND ARROW',\n",
       "       'GLASS', 'SYRINGE', 'MAC-10 SEMIAUTOMATIC ASSAULT WEAPON',\n",
       "       'HAMMER', 'CONCRETE BLOCK/BRICK', 'RELIC FIREARM',\n",
       "       'PIPE/METAL PIPE', 'DOG/ANIMAL (SIC ANIMAL ON)',\n",
       "       'MAC-11 SEMIAUTOMATIC ASSAULT WEAPON', 'ANTIQUE FIREARM',\n",
       "       'M1-1 SEMIAUTOMATIC ASSAULT RIFLE',\n",
       "       'M-14 SEMIAUTOMATIC ASSAULT RIFLE'], dtype=object)"
      ]
     },
     "execution_count": 23,
     "metadata": {},
     "output_type": "execute_result"
    }
   ],
   "source": [
    "df['Weapon Desc'].unique()"
   ]
  },
  {
   "cell_type": "code",
   "execution_count": 24,
   "metadata": {
    "id": "1bL2QUCHqsvT"
   },
   "outputs": [],
   "source": [
    "df.loc[df['Weapon Desc'].isna(), 'Weapon Desc'] = 'UNKNOWN WEAPON/OTHER WEAPON' "
   ]
  },
  {
   "cell_type": "markdown",
   "metadata": {
    "id": "p-Zd32dCsfDf"
   },
   "source": [
    "### Variable Cross Street"
   ]
  },
  {
   "cell_type": "code",
   "execution_count": 25,
   "metadata": {
    "colab": {
     "base_uri": "https://localhost:8080/"
    },
    "id": "ZYBezvS0qr8Q",
    "outputId": "09803dd4-798d-49a3-a39f-5042e0a6f678"
   },
   "outputs": [
    {
     "data": {
      "text/plain": [
       "array([nan, 'MANCHESTER                   AV',\n",
       "       'HOLLYWOOD                    BL', ...,\n",
       "       'S  BIXEL                        ST',\n",
       "       'E  MATEO                        ST',\n",
       "       'EDGEWATER                    AV'], dtype=object)"
      ]
     },
     "execution_count": 25,
     "metadata": {},
     "output_type": "execute_result"
    }
   ],
   "source": [
    "df['Cross Street'].unique()"
   ]
  },
  {
   "cell_type": "code",
   "execution_count": 26,
   "metadata": {
    "id": "2NJ0BWtiqqz5"
   },
   "outputs": [],
   "source": [
    "df.loc[df['Cross Street'].isin([0, None]), 'Cross Street'] = 'UNKNOWN'"
   ]
  },
  {
   "cell_type": "markdown",
   "metadata": {
    "id": "jlMXtYpqsO_S"
   },
   "source": [
    "### Variable Premis Desc"
   ]
  },
  {
   "cell_type": "code",
   "execution_count": 27,
   "metadata": {
    "colab": {
     "base_uri": "https://localhost:8080/"
    },
    "id": "2hyGG9IJYaEV",
    "outputId": "fde24841-58bc-4158-ba53-c0cec6ef594c"
   },
   "outputs": [
    {
     "data": {
      "text/plain": [
       "array(['SINGLE FAMILY DWELLING', 'STREET', 'ALLEY', 'DEPARTMENT STORE',\n",
       "       'OTHER PREMISE', 'PARKING LOT', 'SIDEWALK', 'LIBRARY',\n",
       "       'MULTI-UNIT DWELLING (APARTMENT, DUPLEX, ETC)',\n",
       "       'RESTAURANT/FAST FOOD', 'BAR/COCKTAIL/NIGHTCLUB', 'HOTEL',\n",
       "       'OTHER BUSINESS', 'OTHER STORE',\n",
       "       'GOVERNMENT FACILITY (FEDERAL,STATE, COUNTY & CITY)',\n",
       "       'VEHICLE, PASSENGER/TRUCK',\n",
       "       'MUNICIPAL BUS LINE INCLUDES LADOT/DASH', 'PAWN SHOP',\n",
       "       'OTHER RESIDENCE', 'JEWELRY STORE', 'WAREHOUSE',\n",
       "       'SPECIALTY SCHOOL/OTHER',\n",
       "       'CHURCH/CHAPEL (CHANGED 03-03 FROM CHURCH/TEMPLE)', 'BUS STOP',\n",
       "       'OFFICE BUILDING/OFFICE', 'CONSTRUCTION SITE',\n",
       "       'PARKING UNDERGROUND/BUILDING', 'HOSPITAL', 'DRIVEWAY',\n",
       "       'NIGHT CLUB (OPEN EVENINGS ONLY)', 'DRUG STORE', 'LIQUOR STORE',\n",
       "       'BANK', 'MARKET', 'TRAIN DEPOT/TERMINAL, OTHER THAN MTA',\n",
       "       'PUBLIC RESTROOM/OUTSIDE*', 'PARK/PLAYGROUND', 'POLICE FACILITY',\n",
       "       'SPORTS ARENA', 'ELEVATOR', 'CLOTHING STORE', 'HIGH SCHOOL',\n",
       "       'BUS DEPOT/TERMINAL, OTHER THAN MTA', 'OTHER/OUTSIDE',\n",
       "       'GAS STATION', 'FREEWAY', 'THEATRE/MOVIE', 'BEAUTY/BARBER SHOP',\n",
       "       'MEDICAL/DENTAL OFFICES',\n",
       "       'TRAIN, OTHER THAN MTA (ALSO QUERY 809/810/811)',\n",
       "       'SHOPPING MALL (COMMON AREA)', 'AUTOMATED TELLER MACHINE (ATM)',\n",
       "       'HEALTH SPA/GYM', 'STAPLES CENTER *', 'MOTEL', 'GARAGE/CARPORT',\n",
       "       'CONDOMINIUM/TOWNHOUSE', 'PATIO*',\n",
       "       'PUBLIC RESTROOM(INDOORS-INSIDE)', 'BUS-CHARTER/PRIVATE',\n",
       "       'CONVENTION CENTER', 'FACTORY', 'CREDIT UNION', 'PUBLIC STORAGE',\n",
       "       'YARD (RESIDENTIAL/BUSINESS)',\n",
       "       'TRADE SCHOOL (MEDICAL-TECHNICAL-BUSINESS)*', 'CLEANER/LAUNDROMAT',\n",
       "       'TERMINAL, OTHER THAN MTA', 'AMTRAK TRAIN',\n",
       "       'BUS STOP/LAYOVER (ALSO QUERY 124)', 'AUTO SALES LOT',\n",
       "       'MEDICAL MARIJUANA FACILITIES/BUSINESSES', 'MINI-MART',\n",
       "       'VACANT LOT', 'SWAP MEET', 'TRANSPORTATION FACILITY (AIRPORT)',\n",
       "       'MASSAGE PARLOR', 'ELEMENTARY SCHOOL', 'MTA BUS',\n",
       "       'MANUFACTURING COMPANY', 'BEAUTY SUPPLY STORE',\n",
       "       'PORCH, RESIDENTIAL', 'BAR/SPORTS BAR (OPEN DAY & NIGHT)',\n",
       "       'STORAGE SHED', 'FINANCE COMPANY',\n",
       "       'COLLEGE/JUNIOR COLLEGE/UNIVERSITY', 'TRUCK, COMMERICAL',\n",
       "       'ENTERTAINMENT/COMEDY CLUB (OTHER)', 'TAXI', 'PAY PHONE',\n",
       "       'NURSING/CONVALESCENT/RETIREMENT HOME', 'HIGH-RISE BUILDING',\n",
       "       'REDLINE ENTRANCE/EXIT', 'TRASH CAN/TRASH DUMPSTER',\n",
       "       'SLIPS/DOCK/MARINA/BOAT', nan,\n",
       "       'ABORTION CLINIC/ABORTION FACILITY*', 'OTHER PLACE OF WORSHIP',\n",
       "       'SKATEBOARD FACILITY/SKATEBOARD PARK*', 'CHECK CASHING*',\n",
       "       'JUNIOR HIGH SCHOOL', 'FOSTER HOME BOYS OR GIRLS*', 'STAIRWELL*',\n",
       "       'LAUNDROMAT',\n",
       "       'ARCADE,GAME ROOM/VIDEO GAMES (EXAMPLE CHUCKIE CHEESE)*',\n",
       "       'VIDEO RENTAL STORE', 'ABANDONED BUILDING ABANDONED HOUSE',\n",
       "       'HARDWARE/BUILDING SUPPLY', 'PRIVATE SCHOOL/PRESCHOOL',\n",
       "       'PEDESTRIAN OVERCROSSING', 'GROUP HOME',\n",
       "       'POOL-PUBLIC/OUTDOOR OR INDOOR*',\n",
       "       'PHARMACY INSIDE STORE OR SUPERMARKET*',\n",
       "       'FRAT HOUSE/SORORITY/DORMITORY', 'AUTO REPAIR SHOP',\n",
       "       'REDLINE SUBWAY PLATFORM', 'SAVINGS & LOAN', 'GUN/SPORTING GOODS',\n",
       "       'TUNNEL', 'NAIL SALON', 'TV/RADIO/APPLIANCE',\n",
       "       'PROJECT/TENEMENT/PUBLIC HOUSING', 'POST OFFICE',\n",
       "       'DAY CARE/ADULTS*', 'COLISEUM', 'BUS, SCHOOL, CHURCH',\n",
       "       \"SEX ORIENTED/BOOK STORE/STRIP CLUB/GENTLEMAN'S CLUB\",\n",
       "       'MEMBERSHIP STORE (COSTCO,SAMS CLUB)*', 'TATTOO PARLOR*',\n",
       "       'DAY CARE/CHILDREN*', 'TOW YARD*', 'AUTO SUPPLY STORE*',\n",
       "       'GARMENT MANUFACTURER', 'REDLINE SUBWAY RAIL CAR (INSIDE TRAIN)',\n",
       "       'RETIRED (DUPLICATE) DO NOT USE THIS CODE', 'RIVER BED*',\n",
       "       'UNDERPASS/BRIDGE*', 'CEMETARY*', 'VISION CARE FACILITY*',\n",
       "       \"MOBILE HOME/TRAILERS/CONSTRUCTION TRAILERS/RV'S/MOTORHOME\",\n",
       "       'MTA PROPERTY OR PARKING LOT',\n",
       "       'RECORD-CD MUSIC/COMPUTER GAME STORE', 'DRIVE THRU*', 'BALCONY*',\n",
       "       'BEACH', 'SYNAGOGUE/TEMPLE', 'GOLF COURSE*', 'OIL REFINERY',\n",
       "       'FIRE STATION',\n",
       "       'DELIVERY SERVICE (FED EX, UPS, COURIERS,COURIER SERVICE)*',\n",
       "       'MASS GATHERING LOCATION', 'MOSQUE*', 'CYBERSPACE',\n",
       "       'BLUE LINE (ABOVE GROUND SURFACE TRAIN)', 'CELL PHONE STORE',\n",
       "       'BOWLING ALLEY*', 'AIRCRAFT', 'MAIL BOX', 'SPORTS VENUE, OTHER',\n",
       "       'SEWAGE FACILITY/PIPE',\n",
       "       'OPTICAL OFFICE INSIDE STORE OR SUPERMARKET*', 'TOBACCO SHOP',\n",
       "       'TOOL SHED*', 'DODGER STADIUM',\n",
       "       'TELECOMMUNICATION FACILITY/LOCATION', 'EQUIPMENT RENTAL',\n",
       "       'DRIVE THRU BANKING (WINDOW)*', 'HORSE RACING/SANTA ANITA PARK*',\n",
       "       'WEBSITE', 'HOSPICE', 'GREYHOUND OR INTERSTATE BUS',\n",
       "       'BANKING INSIDE MARKET-STORE *', 'CAR WASH', 'METROLINK TRAIN',\n",
       "       \"SINGLE RESIDENCE OCCUPANCY (SRO'S) LOCATIONS\", 'AMUSEMENT PARK*',\n",
       "       'PET STORE', 'APARTMENT/CONDO COMMON LAUNDRY ROOM',\n",
       "       'REDLINE SUBWAY TUNNEL', 'CHEMICAL STORAGE/MANUFACTURING PLANT',\n",
       "       'OTHER RR TRAIN (UNION PAC, SANTE FE ETC',\n",
       "       \"DIY CENTER (LOWE'S,HOME DEPOT,OSH,CONTRACTORS WAREHOUSE)\",\n",
       "       'TRAIN TRACKS', 'RECYCLING CENTER',\n",
       "       'DISCOUNT STORE (99 CENT,DOLLAR,ETC.', 'NURSERY/FLOWER SHOP',\n",
       "       'COMPUTER SERVICES/REPAIRS/SALES', 'ORANGE LINE PARKING LOT',\n",
       "       'OTHER INTERSTATE, CHARTER BUS', 'SKATING RINK*',\n",
       "       'CATERING/ICE CREAM TRUCK', 'ABATEMENT LOCATION', 'DAM/RESERVOIR',\n",
       "       'ENERGY PLANT/FACILITY', 'MTA - RED LINE - UNION STATION',\n",
       "       'TRAM/STREETCAR(BOXLIKE WAG ON RAILS)*', 'WATER FACILITY',\n",
       "       'CULTURAL SIGNIFICANCE/MONUMENT', 'ESCALATOR*',\n",
       "       'MISSIONS/SHELTERS', 'MUSEUM', 'REDLINE (SUBWAY TRAIN)',\n",
       "       'MTA - PURPLE LINE - WILSHIRE/NORMANDIE',\n",
       "       \"COFFEE SHOP (STARBUCKS, COFFEE BEAN, PEET'S, ETC.)\",\n",
       "       'DETENTION/JAIL FACILITY', 'STUDIO (FILM/PHOTOGRAPHIC/MUSIC)',\n",
       "       'ELECTRONICS STORE (IE:RADIO SHACK, ETC.)',\n",
       "       'MTA - ORANGE LINE - LAUREL CANYON',\n",
       "       'TRANSITIONAL HOUSING/HALFWAY HOUSE', 'TRANSIENT ENCAMPMENT',\n",
       "       'MTA - RED LINE - UNIVERSAL CITY/STUDIO CITY', 'VALET',\n",
       "       'MTA - BLUE LINE - SAN PEDRO', 'MTA - RED LINE - NORTH HOLLYWOOD',\n",
       "       'AUTO DEALERSHIP (CHEVY, FORD, BMW, MERCEDES, ETC.)',\n",
       "       'FURNITURE STORE', 'MTA - BLUE LINE - 103RD/WATTS TOWERS',\n",
       "       'MTA - BLUE LINE - VERNON', 'MTA - ORANGE LINE - WOODLEY',\n",
       "       'MTA - RED LINE - VERMONT/SUNSET',\n",
       "       'MTA - GOLD LINE - HIGHLAND PARK',\n",
       "       'MTA - EXPO LINE - EXPO/SEPULVEDA',\n",
       "       'MTA - GREEN LINE - HARBOR FWY', 'MTA - SILVER LINE - SLAUSON',\n",
       "       'MTA - RED LINE - WILSHIRE/VERMONT', 'MORTUARY',\n",
       "       'MTA - EXPO LINE - EXPO/BUNDY',\n",
       "       \"VEHICLE STORAGE LOT (CARS, TRUCKS, RV'S, BOATS, TRAILERS, ETC.)\",\n",
       "       'MTA - GREEN LINE - AVALON', 'MTA - ORANGE LINE - CANOGA',\n",
       "       'MTA - ORANGE LINE - VAN NUYS',\n",
       "       'MTA - PURPLE LINE - WILSHIRE/VERMONT',\n",
       "       'MTA - BLUE LINE - WASHINGTON',\n",
       "       'MTA - GOLD LINE - SOUTHWEST MUSEUM',\n",
       "       'MTA - ORANGE LINE - DE SOTO', 'BOOK STORE',\n",
       "       'MTA - RED LINE - VERMONT/BEVERLY', 'SHORT-TERM VACATION RENTAL',\n",
       "       'BASKETBALL COURTS', 'MTA - ORANGE LINE - NORTH HOLLYWOOD',\n",
       "       'MTA - PURPLE LINE - WILSHIRE/WESTERN',\n",
       "       'MTA - EXPO LINE - 7TH AND METRO CENTER', 'SURPLUS SURVIVAL STORE',\n",
       "       'MTA - ORANGE LINE - TAMPA', 'MTA - RED LINE - HOLLYWOOD/VINE',\n",
       "       'MTA - ORANGE LINE - WOODMAN', 'MTA - ORANGE LINE - SHERMAN WAY',\n",
       "       'MTA - ORANGE LINE - PIERCE COLLEGE',\n",
       "       'LA UNION STATION (NOT LINE SPECIFIC)',\n",
       "       'MTA - GOLD LINE - HERITAGE SQ', 'MTA - BLUE LINE - GRAND/LATTC',\n",
       "       'MTA - GREEN LINE - AVIATION/LAX', 'VETERINARIAN/ANIMAL HOSPITAL',\n",
       "       'MTA - ORANGE LINE - BALBOA',\n",
       "       'MTA - RED LINE - VERMONT/SANTA MONICA',\n",
       "       'MTA - ORANGE LINE - RESEDA', 'MTA - ORANGE LINE - ROSCOE',\n",
       "       'MTA - EXPO LINE - WESTWOOD/RANCHO PARK',\n",
       "       'MTA - EXPO LINE - PALMS', 'THE BEVERLY CONNECTION',\n",
       "       'METHADONE CLINIC', 'MTA - EXPO LINE - LATTC/ORTHO INSTITUTE',\n",
       "       'MTA - SILVER LINE - HARBOR FWY', 'MTA - ORANGE LINE - NORDHOFF',\n",
       "       'MTA - ORANGE LINE - SEPULVEDA', 'HOCKEY RINK/ICE HOCKEY',\n",
       "       'THE BEVERLY CENTER', 'MTA - EXPO LINE - PICO',\n",
       "       'BANK DROP BOX/MONEY DROP-OUTSIDE OF BANK*',\n",
       "       'MTA - ORANGE LINE - VALLEY COLLEGE',\n",
       "       'MTA - BLUE LINE - 7TH AND METRO CENTER',\n",
       "       'MTA - EXPO LINE - EXPO PARK/USC', 'THE GROVE',\n",
       "       'REDLINE SUBWAY MEZZANINE', 'TACTICAL SIGNIFICANCE',\n",
       "       'MTA - RED LINE - 7TH AND METRO CENTER', 'NUCLEAR FACILITY',\n",
       "       'DEPT OF DEFENSE FACILITY', 'HANDBALL COURTS', 'MUSCLE BEACH',\n",
       "       'MTA - ORANGE LINE - CHATSWORTH',\n",
       "       'MTA - RED LINE - WESTLAKE/MACARTHUR PARK',\n",
       "       'MTA - EXPO LINE - EXPO/WESTERN',\n",
       "       'MTA - GOLD LINE - UNION STATION',\n",
       "       'MTA - RED LINE - HOLLYWOOD/HIGHLAND',\n",
       "       'MTA - EXPO LINE - EXPO/VERMONT',\n",
       "       'MTA - GOLD LINE - LITTLE TOKYO/ARTS DISTRICT',\n",
       "       'MTA - EXPO LINE - FARMDALE', 'MTA - EXPO LINE - EXPO/LA BREA',\n",
       "       '7TH AND METRO CENTER (NOT LINE SPECIFIC)',\n",
       "       'MTA - RED LINE - PERSHING SQUARE',\n",
       "       'MTA - PURPLE LINE - UNION STATION',\n",
       "       'MTA - RED LINE - CIVIC CENTER/GRAND PARK',\n",
       "       'MTA - EXPO LINE - EXPO/CRENSHAW', 'MTA - GOLD LINE - CHINATOWN',\n",
       "       'MTA - SILVER LINE - UNION STATION',\n",
       "       'MTA - GOLD LINE - MARIACHI PLAZA', 'MTA - BLUE LINE - PICO',\n",
       "       'MTA - EXPO LINE - JEFFERSON/USC', 'MTA - GOLD LINE - SOTO',\n",
       "       'MTA - RED LINE - HOLLYWOOD/WESTERN',\n",
       "       'MTA - SILVER LINE - HARBOR GATEWAY TRANSIT CTR',\n",
       "       'MTA - GOLD LINE - LINCOLN/CYPRESS', 'MTA - GOLD LINE - INDIANA',\n",
       "       'MTA - EXPO LINE - LA CIENEGA/JEFFERSON',\n",
       "       'MTA - PURPLE LINE - 7TH AND METRO CENTER',\n",
       "       'MTA - GOLD LINE - PICO/ALISO',\n",
       "       'MTA - PURPLE LINE - PERSHING SQUARE',\n",
       "       'MTA - PURPLE LINE - WESTLAKE/MACARTHUR PARK',\n",
       "       'MTA - SILVER LINE - DOWNTOWN STREET STOPS',\n",
       "       'MTA - ORANGE LINE - WARNER CTR',\n",
       "       'MTA - PURPLE LINE - CIVIC CENTER/GRAND PARK',\n",
       "       'MTA - SILVER LINE - MANCHESTER',\n",
       "       'MTA - SILVER LINE - PACIFIC COAST HWY',\n",
       "       'MTA - SILVER LINE - ROSECRANS',\n",
       "       'MTA - SILVER LINE - CAL STATE LA',\n",
       "       'HARBOR FRWY STATION (NOT LINE SPECIFIC)',\n",
       "       'MTA - SILVER LINE - 37TH ST/USC',\n",
       "       'MTA - SILVER LINE - SAN PEDRO STREET STOPS',\n",
       "       'MTA - SILVER LINE - LAC/USC MEDICAL CENTER'], dtype=object)"
      ]
     },
     "execution_count": 27,
     "metadata": {},
     "output_type": "execute_result"
    }
   ],
   "source": [
    "df['Premis Desc'].unique()"
   ]
  },
  {
   "cell_type": "code",
   "execution_count": 28,
   "metadata": {
    "colab": {
     "base_uri": "https://localhost:8080/"
    },
    "id": "RXCFqp3kqofx",
    "outputId": "d031bce9-52da-42a0-858b-68a53da388b8"
   },
   "outputs": [
    {
     "data": {
      "text/plain": [
       "261"
      ]
     },
     "execution_count": 28,
     "metadata": {},
     "output_type": "execute_result"
    }
   ],
   "source": [
    "df['Premis Desc'].isna().sum()"
   ]
  },
  {
   "cell_type": "code",
   "execution_count": 29,
   "metadata": {
    "id": "tRX3o-Pmqndq"
   },
   "outputs": [],
   "source": [
    "df.loc[df['Premis Desc'].isna(),'Premis Desc'] = 'UNKNOWN'"
   ]
  },
  {
   "cell_type": "markdown",
   "metadata": {
    "id": "k_nyVUenqjgs"
   },
   "source": [
    "### Transforming date"
   ]
  },
  {
   "cell_type": "code",
   "execution_count": 30,
   "metadata": {
    "colab": {
     "base_uri": "https://localhost:8080/"
    },
    "id": "gSOykkB0kqjx",
    "outputId": "f0d8b241-042d-44f1-8e0b-6544ae9e8314"
   },
   "outputs": [
    {
     "data": {
      "text/plain": [
       "array(['02/20/2010 12:00:00 AM', '09/12/2010 12:00:00 AM',\n",
       "       '08/09/2010 12:00:00 AM', ..., '08/07/2019 12:00:00 AM',\n",
       "       '10/13/2019 12:00:00 AM', '11/08/2019 12:00:00 AM'], dtype=object)"
      ]
     },
     "execution_count": 30,
     "metadata": {},
     "output_type": "execute_result"
    }
   ],
   "source": [
    "df['DATE OCC'].unique()"
   ]
  },
  {
   "cell_type": "code",
   "execution_count": 31,
   "metadata": {
    "id": "nc9Urabcqhxx"
   },
   "outputs": [],
   "source": [
    "date = df['DATE OCC'].str.split(expand=True)    #split DATE OCC"
   ]
  },
  {
   "cell_type": "code",
   "execution_count": 32,
   "metadata": {
    "colab": {
     "base_uri": "https://localhost:8080/",
     "height": 204
    },
    "id": "jJM2rBe7Yods",
    "outputId": "a807a3f4-b426-4db0-994e-311cf2442047"
   },
   "outputs": [
    {
     "data": {
      "text/html": [
       "<div>\n",
       "<style scoped>\n",
       "    .dataframe tbody tr th:only-of-type {\n",
       "        vertical-align: middle;\n",
       "    }\n",
       "\n",
       "    .dataframe tbody tr th {\n",
       "        vertical-align: top;\n",
       "    }\n",
       "\n",
       "    .dataframe thead th {\n",
       "        text-align: right;\n",
       "    }\n",
       "</style>\n",
       "<table border=\"1\" class=\"dataframe\">\n",
       "  <thead>\n",
       "    <tr style=\"text-align: right;\">\n",
       "      <th></th>\n",
       "      <th>0</th>\n",
       "      <th>1</th>\n",
       "      <th>2</th>\n",
       "    </tr>\n",
       "  </thead>\n",
       "  <tbody>\n",
       "    <tr>\n",
       "      <th>0</th>\n",
       "      <td>02/20/2010</td>\n",
       "      <td>12:00:00</td>\n",
       "      <td>AM</td>\n",
       "    </tr>\n",
       "    <tr>\n",
       "      <th>1</th>\n",
       "      <td>09/12/2010</td>\n",
       "      <td>12:00:00</td>\n",
       "      <td>AM</td>\n",
       "    </tr>\n",
       "    <tr>\n",
       "      <th>2</th>\n",
       "      <td>08/09/2010</td>\n",
       "      <td>12:00:00</td>\n",
       "      <td>AM</td>\n",
       "    </tr>\n",
       "    <tr>\n",
       "      <th>3</th>\n",
       "      <td>01/05/2010</td>\n",
       "      <td>12:00:00</td>\n",
       "      <td>AM</td>\n",
       "    </tr>\n",
       "    <tr>\n",
       "      <th>4</th>\n",
       "      <td>01/02/2010</td>\n",
       "      <td>12:00:00</td>\n",
       "      <td>AM</td>\n",
       "    </tr>\n",
       "  </tbody>\n",
       "</table>\n",
       "</div>"
      ],
      "text/plain": [
       "            0         1   2\n",
       "0  02/20/2010  12:00:00  AM\n",
       "1  09/12/2010  12:00:00  AM\n",
       "2  08/09/2010  12:00:00  AM\n",
       "3  01/05/2010  12:00:00  AM\n",
       "4  01/02/2010  12:00:00  AM"
      ]
     },
     "execution_count": 32,
     "metadata": {},
     "output_type": "execute_result"
    }
   ],
   "source": [
    "date.head()"
   ]
  },
  {
   "cell_type": "code",
   "execution_count": 33,
   "metadata": {
    "id": "NWZyk9LJqhBf"
   },
   "outputs": [],
   "source": [
    "date.columns = ['Date', 'Time', 'AM']"
   ]
  },
  {
   "cell_type": "code",
   "execution_count": 34,
   "metadata": {
    "id": "dTvbF5IUqgNE"
   },
   "outputs": [],
   "source": [
    "date = pd.to_datetime(date['Date'])            "
   ]
  },
  {
   "cell_type": "code",
   "execution_count": 35,
   "metadata": {
    "id": "bG7rttYWqfaF"
   },
   "outputs": [],
   "source": [
    "df = pd.concat([df, date], axis=1)             "
   ]
  },
  {
   "cell_type": "code",
   "execution_count": 36,
   "metadata": {
    "id": "DlaUxRWDqem-"
   },
   "outputs": [],
   "source": [
    "df = df.drop(labels=['DATE OCC'], axis=1)       "
   ]
  },
  {
   "cell_type": "code",
   "execution_count": 37,
   "metadata": {
    "colab": {
     "base_uri": "https://localhost:8080/"
    },
    "id": "9OAA1-Q68iLf",
    "outputId": "ad6e4606-8ea0-4b32-9de9-74b8b7148508"
   },
   "outputs": [
    {
     "name": "stdout",
     "output_type": "stream",
     "text": [
      "<class 'pandas.core.frame.DataFrame'>\n",
      "RangeIndex: 2060948 entries, 0 to 2060947\n",
      "Data columns (total 16 columns):\n",
      " #   Column        Dtype         \n",
      "---  ------        -----         \n",
      " 0   TIME OCC      int64         \n",
      " 1   AREA          int64         \n",
      " 2   AREA NAME     object        \n",
      " 3   Part 1-2      int64         \n",
      " 4   Crm Cd Desc   object        \n",
      " 5   Vict Age      int64         \n",
      " 6   Vict Sex      object        \n",
      " 7   Vict Descent  object        \n",
      " 8   Premis Desc   object        \n",
      " 9   Weapon Desc   object        \n",
      " 10  Status Desc   object        \n",
      " 11  LOCATION      object        \n",
      " 12  Cross Street  object        \n",
      " 13  LAT           float64       \n",
      " 14  LON           float64       \n",
      " 15  Date          datetime64[ns]\n",
      "dtypes: datetime64[ns](1), float64(2), int64(4), object(9)\n",
      "memory usage: 251.6+ MB\n"
     ]
    }
   ],
   "source": [
    "df.info()"
   ]
  },
  {
   "cell_type": "code",
   "execution_count": 38,
   "metadata": {
    "colab": {
     "base_uri": "https://localhost:8080/",
     "height": 305
    },
    "id": "FasyzOY6Y1lS",
    "outputId": "f593aded-4961-4163-d0cf-e33f56c4431d"
   },
   "outputs": [
    {
     "data": {
      "text/html": [
       "<div>\n",
       "<style scoped>\n",
       "    .dataframe tbody tr th:only-of-type {\n",
       "        vertical-align: middle;\n",
       "    }\n",
       "\n",
       "    .dataframe tbody tr th {\n",
       "        vertical-align: top;\n",
       "    }\n",
       "\n",
       "    .dataframe thead th {\n",
       "        text-align: right;\n",
       "    }\n",
       "</style>\n",
       "<table border=\"1\" class=\"dataframe\">\n",
       "  <thead>\n",
       "    <tr style=\"text-align: right;\">\n",
       "      <th></th>\n",
       "      <th>TIME OCC</th>\n",
       "      <th>AREA</th>\n",
       "      <th>AREA NAME</th>\n",
       "      <th>Part 1-2</th>\n",
       "      <th>Crm Cd Desc</th>\n",
       "      <th>Vict Age</th>\n",
       "      <th>Vict Sex</th>\n",
       "      <th>Vict Descent</th>\n",
       "      <th>Premis Desc</th>\n",
       "      <th>Weapon Desc</th>\n",
       "      <th>Status Desc</th>\n",
       "      <th>LOCATION</th>\n",
       "      <th>Cross Street</th>\n",
       "      <th>LAT</th>\n",
       "      <th>LON</th>\n",
       "      <th>Date</th>\n",
       "    </tr>\n",
       "  </thead>\n",
       "  <tbody>\n",
       "    <tr>\n",
       "      <th>0</th>\n",
       "      <td>1350</td>\n",
       "      <td>13</td>\n",
       "      <td>Newton</td>\n",
       "      <td>2</td>\n",
       "      <td>VIOLATION OF COURT ORDER</td>\n",
       "      <td>48</td>\n",
       "      <td>M</td>\n",
       "      <td>H</td>\n",
       "      <td>SINGLE FAMILY DWELLING</td>\n",
       "      <td>UNKNOWN WEAPON/OTHER WEAPON</td>\n",
       "      <td>Adult Arrest</td>\n",
       "      <td>300 E  GAGE                         AV</td>\n",
       "      <td>NaN</td>\n",
       "      <td>33.9825</td>\n",
       "      <td>-118.2695</td>\n",
       "      <td>2010-02-20</td>\n",
       "    </tr>\n",
       "    <tr>\n",
       "      <th>1</th>\n",
       "      <td>45</td>\n",
       "      <td>14</td>\n",
       "      <td>Pacific</td>\n",
       "      <td>2</td>\n",
       "      <td>VANDALISM - FELONY ($400 &amp; OVER, ALL CHURCH VA...</td>\n",
       "      <td>0</td>\n",
       "      <td>M</td>\n",
       "      <td>W</td>\n",
       "      <td>STREET</td>\n",
       "      <td>UNKNOWN WEAPON/OTHER WEAPON</td>\n",
       "      <td>Invest Cont</td>\n",
       "      <td>SEPULVEDA                    BL</td>\n",
       "      <td>MANCHESTER                   AV</td>\n",
       "      <td>33.9599</td>\n",
       "      <td>-118.3962</td>\n",
       "      <td>2010-09-12</td>\n",
       "    </tr>\n",
       "    <tr>\n",
       "      <th>2</th>\n",
       "      <td>1515</td>\n",
       "      <td>13</td>\n",
       "      <td>Newton</td>\n",
       "      <td>2</td>\n",
       "      <td>OTHER MISCELLANEOUS CRIME</td>\n",
       "      <td>0</td>\n",
       "      <td>M</td>\n",
       "      <td>H</td>\n",
       "      <td>ALLEY</td>\n",
       "      <td>UNKNOWN WEAPON/OTHER WEAPON</td>\n",
       "      <td>Invest Cont</td>\n",
       "      <td>1300 E  21ST                         ST</td>\n",
       "      <td>NaN</td>\n",
       "      <td>34.0224</td>\n",
       "      <td>-118.2524</td>\n",
       "      <td>2010-08-09</td>\n",
       "    </tr>\n",
       "    <tr>\n",
       "      <th>3</th>\n",
       "      <td>150</td>\n",
       "      <td>6</td>\n",
       "      <td>Hollywood</td>\n",
       "      <td>2</td>\n",
       "      <td>VIOLATION OF COURT ORDER</td>\n",
       "      <td>47</td>\n",
       "      <td>F</td>\n",
       "      <td>W</td>\n",
       "      <td>STREET</td>\n",
       "      <td>HAND GUN</td>\n",
       "      <td>Invest Cont</td>\n",
       "      <td>CAHUENGA                     BL</td>\n",
       "      <td>HOLLYWOOD                    BL</td>\n",
       "      <td>34.1016</td>\n",
       "      <td>-118.3295</td>\n",
       "      <td>2010-01-05</td>\n",
       "    </tr>\n",
       "    <tr>\n",
       "      <th>4</th>\n",
       "      <td>2100</td>\n",
       "      <td>1</td>\n",
       "      <td>Central</td>\n",
       "      <td>1</td>\n",
       "      <td>RAPE, ATTEMPTED</td>\n",
       "      <td>47</td>\n",
       "      <td>F</td>\n",
       "      <td>H</td>\n",
       "      <td>ALLEY</td>\n",
       "      <td>STRONG-ARM (HANDS, FIST, FEET OR BODILY FORCE)</td>\n",
       "      <td>Invest Cont</td>\n",
       "      <td>8TH                          ST</td>\n",
       "      <td>SAN PEDRO                    ST</td>\n",
       "      <td>34.0387</td>\n",
       "      <td>-118.2488</td>\n",
       "      <td>2010-01-02</td>\n",
       "    </tr>\n",
       "  </tbody>\n",
       "</table>\n",
       "</div>"
      ],
      "text/plain": [
       "   TIME OCC  AREA   AREA NAME  Part 1-2  \\\n",
       "0      1350     13     Newton         2   \n",
       "1        45     14    Pacific         2   \n",
       "2      1515     13     Newton         2   \n",
       "3       150      6  Hollywood         2   \n",
       "4      2100      1    Central         1   \n",
       "\n",
       "                                         Crm Cd Desc  Vict Age Vict Sex  \\\n",
       "0                           VIOLATION OF COURT ORDER        48        M   \n",
       "1  VANDALISM - FELONY ($400 & OVER, ALL CHURCH VA...         0        M   \n",
       "2                          OTHER MISCELLANEOUS CRIME         0        M   \n",
       "3                           VIOLATION OF COURT ORDER        47        F   \n",
       "4                                    RAPE, ATTEMPTED        47        F   \n",
       "\n",
       "  Vict Descent             Premis Desc  \\\n",
       "0            H  SINGLE FAMILY DWELLING   \n",
       "1            W                  STREET   \n",
       "2            H                   ALLEY   \n",
       "3            W                  STREET   \n",
       "4            H                   ALLEY   \n",
       "\n",
       "                                      Weapon Desc   Status Desc  \\\n",
       "0                     UNKNOWN WEAPON/OTHER WEAPON  Adult Arrest   \n",
       "1                     UNKNOWN WEAPON/OTHER WEAPON   Invest Cont   \n",
       "2                     UNKNOWN WEAPON/OTHER WEAPON   Invest Cont   \n",
       "3                                        HAND GUN   Invest Cont   \n",
       "4  STRONG-ARM (HANDS, FIST, FEET OR BODILY FORCE)   Invest Cont   \n",
       "\n",
       "                                  LOCATION                     Cross Street  \\\n",
       "0   300 E  GAGE                         AV                              NaN   \n",
       "1          SEPULVEDA                    BL  MANCHESTER                   AV   \n",
       "2  1300 E  21ST                         ST                              NaN   \n",
       "3          CAHUENGA                     BL  HOLLYWOOD                    BL   \n",
       "4          8TH                          ST  SAN PEDRO                    ST   \n",
       "\n",
       "       LAT       LON       Date  \n",
       "0  33.9825 -118.2695 2010-02-20  \n",
       "1  33.9599 -118.3962 2010-09-12  \n",
       "2  34.0224 -118.2524 2010-08-09  \n",
       "3  34.1016 -118.3295 2010-01-05  \n",
       "4  34.0387 -118.2488 2010-01-02  "
      ]
     },
     "execution_count": 38,
     "metadata": {},
     "output_type": "execute_result"
    }
   ],
   "source": [
    "df.head()"
   ]
  },
  {
   "cell_type": "markdown",
   "metadata": {
    "id": "pQqZ-4OZ8mOK"
   },
   "source": [
    "### Transforming time"
   ]
  },
  {
   "cell_type": "code",
   "execution_count": 39,
   "metadata": {
    "id": "liAtV7J4knd5"
   },
   "outputs": [],
   "source": [
    "time=[]\n",
    "for rows in df['TIME OCC'].iteritems():\n",
    "    if len(str(rows[1]))==3:                \n",
    "        time.append('0'+str(rows[1]))       \n",
    "    elif len(str(rows[1]))==4:              \n",
    "        time.append(str(rows[1]))           \n",
    "    else:\n",
    "        time.append('0000')                 "
   ]
  },
  {
   "cell_type": "code",
   "execution_count": 40,
   "metadata": {
    "id": "k5u0_KOBqcDq"
   },
   "outputs": [],
   "source": [
    "df_time = pd.DataFrame(time)"
   ]
  },
  {
   "cell_type": "code",
   "execution_count": 41,
   "metadata": {
    "colab": {
     "base_uri": "https://localhost:8080/",
     "height": 418
    },
    "id": "6IVmk2z4ZB3E",
    "outputId": "0b35e01b-c705-4f9e-cd88-66d5a77f3c81"
   },
   "outputs": [
    {
     "data": {
      "text/html": [
       "<div>\n",
       "<style scoped>\n",
       "    .dataframe tbody tr th:only-of-type {\n",
       "        vertical-align: middle;\n",
       "    }\n",
       "\n",
       "    .dataframe tbody tr th {\n",
       "        vertical-align: top;\n",
       "    }\n",
       "\n",
       "    .dataframe thead th {\n",
       "        text-align: right;\n",
       "    }\n",
       "</style>\n",
       "<table border=\"1\" class=\"dataframe\">\n",
       "  <thead>\n",
       "    <tr style=\"text-align: right;\">\n",
       "      <th></th>\n",
       "      <th>0</th>\n",
       "    </tr>\n",
       "  </thead>\n",
       "  <tbody>\n",
       "    <tr>\n",
       "      <th>0</th>\n",
       "      <td>1350</td>\n",
       "    </tr>\n",
       "    <tr>\n",
       "      <th>1</th>\n",
       "      <td>0000</td>\n",
       "    </tr>\n",
       "    <tr>\n",
       "      <th>2</th>\n",
       "      <td>1515</td>\n",
       "    </tr>\n",
       "    <tr>\n",
       "      <th>3</th>\n",
       "      <td>0150</td>\n",
       "    </tr>\n",
       "    <tr>\n",
       "      <th>4</th>\n",
       "      <td>2100</td>\n",
       "    </tr>\n",
       "    <tr>\n",
       "      <th>...</th>\n",
       "      <td>...</td>\n",
       "    </tr>\n",
       "    <tr>\n",
       "      <th>2060943</th>\n",
       "      <td>0400</td>\n",
       "    </tr>\n",
       "    <tr>\n",
       "      <th>2060944</th>\n",
       "      <td>1810</td>\n",
       "    </tr>\n",
       "    <tr>\n",
       "      <th>2060945</th>\n",
       "      <td>2100</td>\n",
       "    </tr>\n",
       "    <tr>\n",
       "      <th>2060946</th>\n",
       "      <td>1800</td>\n",
       "    </tr>\n",
       "    <tr>\n",
       "      <th>2060947</th>\n",
       "      <td>1615</td>\n",
       "    </tr>\n",
       "  </tbody>\n",
       "</table>\n",
       "<p>2060948 rows × 1 columns</p>\n",
       "</div>"
      ],
      "text/plain": [
       "            0\n",
       "0        1350\n",
       "1        0000\n",
       "2        1515\n",
       "3        0150\n",
       "4        2100\n",
       "...       ...\n",
       "2060943  0400\n",
       "2060944  1810\n",
       "2060945  2100\n",
       "2060946  1800\n",
       "2060947  1615\n",
       "\n",
       "[2060948 rows x 1 columns]"
      ]
     },
     "execution_count": 41,
     "metadata": {},
     "output_type": "execute_result"
    }
   ],
   "source": [
    "df_time"
   ]
  },
  {
   "cell_type": "code",
   "execution_count": 42,
   "metadata": {
    "id": "G6M0QZPeqbFm"
   },
   "outputs": [],
   "source": [
    "df_time.columns = ['Time']"
   ]
  },
  {
   "cell_type": "code",
   "execution_count": 43,
   "metadata": {
    "id": "ovr0sd-uqaNc"
   },
   "outputs": [],
   "source": [
    "df_time = pd.to_datetime(df_time['Time'], format='%H%M')"
   ]
  },
  {
   "cell_type": "code",
   "execution_count": 44,
   "metadata": {
    "id": "NZtClDrWqZRv"
   },
   "outputs": [],
   "source": [
    "df = pd.concat([df, df_time], axis=1)"
   ]
  },
  {
   "cell_type": "code",
   "execution_count": 45,
   "metadata": {
    "colab": {
     "base_uri": "https://localhost:8080/"
    },
    "id": "H9jc8MPL-j7l",
    "outputId": "be05c2e9-e3de-4ad3-da3c-f14a74a3d31e"
   },
   "outputs": [
    {
     "name": "stdout",
     "output_type": "stream",
     "text": [
      "<class 'pandas.core.frame.DataFrame'>\n",
      "RangeIndex: 2060948 entries, 0 to 2060947\n",
      "Data columns (total 17 columns):\n",
      " #   Column        Dtype         \n",
      "---  ------        -----         \n",
      " 0   TIME OCC      int64         \n",
      " 1   AREA          int64         \n",
      " 2   AREA NAME     object        \n",
      " 3   Part 1-2      int64         \n",
      " 4   Crm Cd Desc   object        \n",
      " 5   Vict Age      int64         \n",
      " 6   Vict Sex      object        \n",
      " 7   Vict Descent  object        \n",
      " 8   Premis Desc   object        \n",
      " 9   Weapon Desc   object        \n",
      " 10  Status Desc   object        \n",
      " 11  LOCATION      object        \n",
      " 12  Cross Street  object        \n",
      " 13  LAT           float64       \n",
      " 14  LON           float64       \n",
      " 15  Date          datetime64[ns]\n",
      " 16  Time          datetime64[ns]\n",
      "dtypes: datetime64[ns](2), float64(2), int64(4), object(9)\n",
      "memory usage: 267.3+ MB\n"
     ]
    }
   ],
   "source": [
    "df.info()"
   ]
  },
  {
   "cell_type": "code",
   "execution_count": 46,
   "metadata": {
    "id": "W4Ft3hSxqXYN"
   },
   "outputs": [],
   "source": [
    "df = df.drop(labels=['TIME OCC'], axis=1)"
   ]
  },
  {
   "cell_type": "code",
   "execution_count": 47,
   "metadata": {
    "colab": {
     "base_uri": "https://localhost:8080/"
    },
    "id": "RbZ6mu4AqWsa",
    "outputId": "8afe587c-8d0f-4625-cd29-6fddab86ffc5"
   },
   "outputs": [
    {
     "name": "stdout",
     "output_type": "stream",
     "text": [
      "<class 'pandas.core.frame.DataFrame'>\n",
      "RangeIndex: 2060948 entries, 0 to 2060947\n",
      "Data columns (total 16 columns):\n",
      " #   Column        Dtype         \n",
      "---  ------        -----         \n",
      " 0   AREA          int64         \n",
      " 1   AREA NAME     object        \n",
      " 2   Part 1-2      int64         \n",
      " 3   Crm Cd Desc   object        \n",
      " 4   Vict Age      int64         \n",
      " 5   Vict Sex      object        \n",
      " 6   Vict Descent  object        \n",
      " 7   Premis Desc   object        \n",
      " 8   Weapon Desc   object        \n",
      " 9   Status Desc   object        \n",
      " 10  LOCATION      object        \n",
      " 11  Cross Street  object        \n",
      " 12  LAT           float64       \n",
      " 13  LON           float64       \n",
      " 14  Date          datetime64[ns]\n",
      " 15  Time          datetime64[ns]\n",
      "dtypes: datetime64[ns](2), float64(2), int64(3), object(9)\n",
      "memory usage: 251.6+ MB\n"
     ]
    }
   ],
   "source": [
    "df.info()"
   ]
  },
  {
   "cell_type": "markdown",
   "metadata": {
    "id": "DXTKAMgtqQpW"
   },
   "source": [
    "### Duplicated rows"
   ]
  },
  {
   "cell_type": "code",
   "execution_count": 48,
   "metadata": {
    "id": "U5AxC3yLkmGR"
   },
   "outputs": [],
   "source": [
    "dup = df.duplicated()"
   ]
  },
  {
   "cell_type": "code",
   "execution_count": 49,
   "metadata": {
    "colab": {
     "base_uri": "https://localhost:8080/"
    },
    "id": "lTG5N45XqPo4",
    "outputId": "ee9d8929-cc80-41a0-dcda-108c0e53208a"
   },
   "outputs": [
    {
     "data": {
      "text/plain": [
       "False    1966664\n",
       "True       94284\n",
       "dtype: int64"
      ]
     },
     "execution_count": 49,
     "metadata": {},
     "output_type": "execute_result"
    }
   ],
   "source": [
    "dup.value_counts()"
   ]
  },
  {
   "cell_type": "code",
   "execution_count": 50,
   "metadata": {
    "id": "2BtW8qSHqO1v"
   },
   "outputs": [],
   "source": [
    "df = df.drop_duplicates()"
   ]
  },
  {
   "cell_type": "code",
   "execution_count": 51,
   "metadata": {
    "colab": {
     "base_uri": "https://localhost:8080/"
    },
    "id": "2kmd7tq_hhso",
    "outputId": "9f55a470-f784-495a-9f52-1b706ead7473"
   },
   "outputs": [
    {
     "data": {
      "text/plain": [
       "False    1966664\n",
       "dtype: int64"
      ]
     },
     "execution_count": 51,
     "metadata": {},
     "output_type": "execute_result"
    }
   ],
   "source": [
    "df.duplicated().value_counts()"
   ]
  },
  {
   "cell_type": "markdown",
   "metadata": {
    "id": "TXrlETlJl0uZ"
   },
   "source": [
    "### Data Analysis\n",
    "\n",
    "### Victim Age"
   ]
  },
  {
   "cell_type": "code",
   "execution_count": 52,
   "metadata": {
    "id": "xZSR1y4BkgZG"
   },
   "outputs": [],
   "source": [
    "age = df['Vict Age']"
   ]
  },
  {
   "cell_type": "code",
   "execution_count": 53,
   "metadata": {
    "id": "AEUmjMjYlxIv"
   },
   "outputs": [],
   "source": [
    "age = age[age>0]"
   ]
  },
  {
   "cell_type": "code",
   "execution_count": 54,
   "metadata": {
    "colab": {
     "base_uri": "https://localhost:8080/",
     "height": 318
    },
    "id": "UuwQ6GxqlwG9",
    "outputId": "7f4ea4dd-ff0d-4c20-ac62-5c97869f04db"
   },
   "outputs": [
    {
     "data": {
      "text/plain": [
       "Text(0.5, 1.0, 'Victim Age')"
      ]
     },
     "execution_count": 54,
     "metadata": {},
     "output_type": "execute_result"
    },
    {
     "data": {
      "image/png": "[encoded data removed]",
      "text/plain": [
       "<Figure size 432x288 with 1 Axes>"
      ]
     },
     "metadata": {},
     "output_type": "display_data"
    }
   ],
   "source": [
    "plt.hist(age, density=True, bins=20, facecolor='#b2182b')\n",
    "plt.xlim(0, max(age))\n",
    "plt.xticks(np.arange(0, max(age)+2, 5.0))\n",
    "plt.xlabel('Age', fontsize=12, fontweight='bold')\n",
    "plt.ylabel('% victims', fontsize=12, fontweight='bold')\n",
    "plt.title('Victim Age', fontsize=14, fontweight='bold')"
   ]
  },
  {
   "cell_type": "code",
   "execution_count": 55,
   "metadata": {
    "colab": {
     "base_uri": "https://localhost:8080/"
    },
    "id": "8l3vtSkGlkPW",
    "outputId": "c6600bdd-e77b-4a64-9657-622f56f08926"
   },
   "outputs": [
    {
     "data": {
      "text/plain": [
       "count    1.615072e+06\n",
       "mean     3.860248e+01\n",
       "std      1.599043e+01\n",
       "min      2.000000e+00\n",
       "25%      2.600000e+01\n",
       "50%      3.600000e+01\n",
       "75%      5.000000e+01\n",
       "max      1.180000e+02\n",
       "Name: Vict Age, dtype: float64"
      ]
     },
     "execution_count": 55,
     "metadata": {},
     "output_type": "execute_result"
    }
   ],
   "source": [
    "age.describe()"
   ]
  },
  {
   "cell_type": "code",
   "execution_count": 56,
   "metadata": {
    "colab": {
     "base_uri": "https://localhost:8080/"
    },
    "id": "9AwKCbVvpHdM",
    "outputId": "a7e23f38-b996-44aa-b1c3-147264707ae3"
   },
   "outputs": [
    {
     "data": {
      "text/plain": [
       "0    25\n",
       "dtype: int64"
      ]
     },
     "execution_count": 56,
     "metadata": {},
     "output_type": "execute_result"
    }
   ],
   "source": [
    "age.mode()"
   ]
  },
  {
   "cell_type": "markdown",
   "metadata": {
    "id": "AR2hZDsEllQD"
   },
   "source": [
    "### Victim by gender"
   ]
  },
  {
   "cell_type": "code",
   "execution_count": 57,
   "metadata": {
    "id": "sq3pcYUqxBxn"
   },
   "outputs": [],
   "source": [
    "sex = df['Vict Sex'].value_counts(normalize=True)"
   ]
  },
  {
   "cell_type": "code",
   "execution_count": 59,
   "metadata": {
    "colab": {
     "base_uri": "https://localhost:8080/",
     "height": 318
    },
    "id": "orugcK7Aurwx",
    "outputId": "ba9859de-d7df-4e3e-c35c-854e361e44c5"
   },
   "outputs": [
    {
     "ename": "ValueError",
     "evalue": "The number of FixedLocator locations (5), usually from a call to set_ticks, does not match the number of ticklabels (3).",
     "output_type": "error",
     "traceback": [
      "\u001b[1;31m---------------------------------------------------------------------------\u001b[0m",
      "\u001b[1;31mValueError\u001b[0m                                Traceback (most recent call last)",
      "\u001b[1;32mC:\\Users\\IGNACI~1\\AppData\\Local\\Temp/ipykernel_2756/4221879787.py\u001b[0m in \u001b[0;36m<module>\u001b[1;34m\u001b[0m\n\u001b[0;32m      1\u001b[0m \u001b[0msex_plot\u001b[0m \u001b[1;33m=\u001b[0m \u001b[0msex\u001b[0m\u001b[1;33m.\u001b[0m\u001b[0mplot\u001b[0m\u001b[1;33m.\u001b[0m\u001b[0mbarh\u001b[0m\u001b[1;33m(\u001b[0m\u001b[1;33m)\u001b[0m\u001b[1;33m\u001b[0m\u001b[1;33m\u001b[0m\u001b[0m\n\u001b[0;32m      2\u001b[0m \u001b[0msex_plot\u001b[0m\u001b[1;33m.\u001b[0m\u001b[0mset_xlabel\u001b[0m\u001b[1;33m(\u001b[0m\u001b[1;34m'% Victim'\u001b[0m\u001b[1;33m,\u001b[0m \u001b[0mfontsize\u001b[0m\u001b[1;33m=\u001b[0m\u001b[1;36m12\u001b[0m\u001b[1;33m,\u001b[0m \u001b[0mfontweight\u001b[0m\u001b[1;33m=\u001b[0m\u001b[1;34m'bold'\u001b[0m\u001b[1;33m)\u001b[0m\u001b[1;33m\u001b[0m\u001b[1;33m\u001b[0m\u001b[0m\n\u001b[1;32m----> 3\u001b[1;33m \u001b[0msex_plot\u001b[0m\u001b[1;33m.\u001b[0m\u001b[0mset_yticklabels\u001b[0m\u001b[1;33m(\u001b[0m\u001b[1;33m[\u001b[0m\u001b[1;34m'Male'\u001b[0m\u001b[1;33m,\u001b[0m \u001b[1;34m'Woman'\u001b[0m\u001b[1;33m,\u001b[0m \u001b[1;34m'U'\u001b[0m\u001b[1;33m]\u001b[0m\u001b[1;33m)\u001b[0m\u001b[1;33m\u001b[0m\u001b[1;33m\u001b[0m\u001b[0m\n\u001b[0m\u001b[0;32m      4\u001b[0m \u001b[0msex_plot\u001b[0m\u001b[1;33m.\u001b[0m\u001b[0mset_ylabel\u001b[0m\u001b[1;33m(\u001b[0m\u001b[1;34m'Sex'\u001b[0m\u001b[1;33m,\u001b[0m \u001b[0mfontsize\u001b[0m\u001b[1;33m=\u001b[0m\u001b[1;36m12\u001b[0m\u001b[1;33m,\u001b[0m \u001b[0mfontweight\u001b[0m\u001b[1;33m=\u001b[0m\u001b[1;34m'bold'\u001b[0m\u001b[1;33m)\u001b[0m\u001b[1;33m\u001b[0m\u001b[1;33m\u001b[0m\u001b[0m\n\u001b[0;32m      5\u001b[0m \u001b[0msex_plot\u001b[0m\u001b[1;33m.\u001b[0m\u001b[0mset_title\u001b[0m\u001b[1;33m(\u001b[0m\u001b[1;34m'Victim Sex'\u001b[0m\u001b[1;33m,\u001b[0m \u001b[0mfontsize\u001b[0m\u001b[1;33m=\u001b[0m\u001b[1;36m14\u001b[0m\u001b[1;33m,\u001b[0m \u001b[0mfontweight\u001b[0m\u001b[1;33m=\u001b[0m\u001b[1;34m'bold'\u001b[0m\u001b[1;33m)\u001b[0m\u001b[1;33m\u001b[0m\u001b[1;33m\u001b[0m\u001b[0m\n",
      "\u001b[1;32mC:\\ProgramData\\Anaconda3\\lib\\site-packages\\matplotlib\\axes\\_base.py\u001b[0m in \u001b[0;36mwrapper\u001b[1;34m(self, *args, **kwargs)\u001b[0m\n\u001b[0;32m     71\u001b[0m \u001b[1;33m\u001b[0m\u001b[0m\n\u001b[0;32m     72\u001b[0m         \u001b[1;32mdef\u001b[0m \u001b[0mwrapper\u001b[0m\u001b[1;33m(\u001b[0m\u001b[0mself\u001b[0m\u001b[1;33m,\u001b[0m \u001b[1;33m*\u001b[0m\u001b[0margs\u001b[0m\u001b[1;33m,\u001b[0m \u001b[1;33m**\u001b[0m\u001b[0mkwargs\u001b[0m\u001b[1;33m)\u001b[0m\u001b[1;33m:\u001b[0m\u001b[1;33m\u001b[0m\u001b[1;33m\u001b[0m\u001b[0m\n\u001b[1;32m---> 73\u001b[1;33m             \u001b[1;32mreturn\u001b[0m \u001b[0mget_method\u001b[0m\u001b[1;33m(\u001b[0m\u001b[0mself\u001b[0m\u001b[1;33m)\u001b[0m\u001b[1;33m(\u001b[0m\u001b[1;33m*\u001b[0m\u001b[0margs\u001b[0m\u001b[1;33m,\u001b[0m \u001b[1;33m**\u001b[0m\u001b[0mkwargs\u001b[0m\u001b[1;33m)\u001b[0m\u001b[1;33m\u001b[0m\u001b[1;33m\u001b[0m\u001b[0m\n\u001b[0m\u001b[0;32m     74\u001b[0m \u001b[1;33m\u001b[0m\u001b[0m\n\u001b[0;32m     75\u001b[0m         \u001b[0mwrapper\u001b[0m\u001b[1;33m.\u001b[0m\u001b[0m__module__\u001b[0m \u001b[1;33m=\u001b[0m \u001b[0mowner\u001b[0m\u001b[1;33m.\u001b[0m\u001b[0m__module__\u001b[0m\u001b[1;33m\u001b[0m\u001b[1;33m\u001b[0m\u001b[0m\n",
      "\u001b[1;32mC:\\ProgramData\\Anaconda3\\lib\\site-packages\\matplotlib\\_api\\deprecation.py\u001b[0m in \u001b[0;36mwrapper\u001b[1;34m(*args, **kwargs)\u001b[0m\n\u001b[0;32m    469\u001b[0m                 \u001b[1;34m\"parameter will become keyword-only %(removal)s.\"\u001b[0m\u001b[1;33m,\u001b[0m\u001b[1;33m\u001b[0m\u001b[1;33m\u001b[0m\u001b[0m\n\u001b[0;32m    470\u001b[0m                 name=name, obj_type=f\"parameter of {func.__name__}()\")\n\u001b[1;32m--> 471\u001b[1;33m         \u001b[1;32mreturn\u001b[0m \u001b[0mfunc\u001b[0m\u001b[1;33m(\u001b[0m\u001b[1;33m*\u001b[0m\u001b[0margs\u001b[0m\u001b[1;33m,\u001b[0m \u001b[1;33m**\u001b[0m\u001b[0mkwargs\u001b[0m\u001b[1;33m)\u001b[0m\u001b[1;33m\u001b[0m\u001b[1;33m\u001b[0m\u001b[0m\n\u001b[0m\u001b[0;32m    472\u001b[0m \u001b[1;33m\u001b[0m\u001b[0m\n\u001b[0;32m    473\u001b[0m     \u001b[1;32mreturn\u001b[0m \u001b[0mwrapper\u001b[0m\u001b[1;33m\u001b[0m\u001b[1;33m\u001b[0m\u001b[0m\n",
      "\u001b[1;32mC:\\ProgramData\\Anaconda3\\lib\\site-packages\\matplotlib\\axis.py\u001b[0m in \u001b[0;36m_set_ticklabels\u001b[1;34m(self, labels, fontdict, minor, **kwargs)\u001b[0m\n\u001b[0;32m   1793\u001b[0m         \u001b[1;32mif\u001b[0m \u001b[0mfontdict\u001b[0m \u001b[1;32mis\u001b[0m \u001b[1;32mnot\u001b[0m \u001b[1;32mNone\u001b[0m\u001b[1;33m:\u001b[0m\u001b[1;33m\u001b[0m\u001b[1;33m\u001b[0m\u001b[0m\n\u001b[0;32m   1794\u001b[0m             \u001b[0mkwargs\u001b[0m\u001b[1;33m.\u001b[0m\u001b[0mupdate\u001b[0m\u001b[1;33m(\u001b[0m\u001b[0mfontdict\u001b[0m\u001b[1;33m)\u001b[0m\u001b[1;33m\u001b[0m\u001b[1;33m\u001b[0m\u001b[0m\n\u001b[1;32m-> 1795\u001b[1;33m         \u001b[1;32mreturn\u001b[0m \u001b[0mself\u001b[0m\u001b[1;33m.\u001b[0m\u001b[0mset_ticklabels\u001b[0m\u001b[1;33m(\u001b[0m\u001b[0mlabels\u001b[0m\u001b[1;33m,\u001b[0m \u001b[0mminor\u001b[0m\u001b[1;33m=\u001b[0m\u001b[0mminor\u001b[0m\u001b[1;33m,\u001b[0m \u001b[1;33m**\u001b[0m\u001b[0mkwargs\u001b[0m\u001b[1;33m)\u001b[0m\u001b[1;33m\u001b[0m\u001b[1;33m\u001b[0m\u001b[0m\n\u001b[0m\u001b[0;32m   1796\u001b[0m \u001b[1;33m\u001b[0m\u001b[0m\n\u001b[0;32m   1797\u001b[0m     \u001b[1;32mdef\u001b[0m \u001b[0mset_ticks\u001b[0m\u001b[1;33m(\u001b[0m\u001b[0mself\u001b[0m\u001b[1;33m,\u001b[0m \u001b[0mticks\u001b[0m\u001b[1;33m,\u001b[0m \u001b[1;33m*\u001b[0m\u001b[1;33m,\u001b[0m \u001b[0mminor\u001b[0m\u001b[1;33m=\u001b[0m\u001b[1;32mFalse\u001b[0m\u001b[1;33m)\u001b[0m\u001b[1;33m:\u001b[0m\u001b[1;33m\u001b[0m\u001b[1;33m\u001b[0m\u001b[0m\n",
      "\u001b[1;32mC:\\ProgramData\\Anaconda3\\lib\\site-packages\\matplotlib\\axis.py\u001b[0m in \u001b[0;36mset_ticklabels\u001b[1;34m(self, ticklabels, minor, **kwargs)\u001b[0m\n\u001b[0;32m   1714\u001b[0m             \u001b[1;31m# remove all tick labels, so only error for > 0 ticklabels\u001b[0m\u001b[1;33m\u001b[0m\u001b[1;33m\u001b[0m\u001b[0m\n\u001b[0;32m   1715\u001b[0m             \u001b[1;32mif\u001b[0m \u001b[0mlen\u001b[0m\u001b[1;33m(\u001b[0m\u001b[0mlocator\u001b[0m\u001b[1;33m.\u001b[0m\u001b[0mlocs\u001b[0m\u001b[1;33m)\u001b[0m \u001b[1;33m!=\u001b[0m \u001b[0mlen\u001b[0m\u001b[1;33m(\u001b[0m\u001b[0mticklabels\u001b[0m\u001b[1;33m)\u001b[0m \u001b[1;32mand\u001b[0m \u001b[0mlen\u001b[0m\u001b[1;33m(\u001b[0m\u001b[0mticklabels\u001b[0m\u001b[1;33m)\u001b[0m \u001b[1;33m!=\u001b[0m \u001b[1;36m0\u001b[0m\u001b[1;33m:\u001b[0m\u001b[1;33m\u001b[0m\u001b[1;33m\u001b[0m\u001b[0m\n\u001b[1;32m-> 1716\u001b[1;33m                 raise ValueError(\n\u001b[0m\u001b[0;32m   1717\u001b[0m                     \u001b[1;34m\"The number of FixedLocator locations\"\u001b[0m\u001b[1;33m\u001b[0m\u001b[1;33m\u001b[0m\u001b[0m\n\u001b[0;32m   1718\u001b[0m                     \u001b[1;34mf\" ({len(locator.locs)}), usually from a call to\"\u001b[0m\u001b[1;33m\u001b[0m\u001b[1;33m\u001b[0m\u001b[0m\n",
      "\u001b[1;31mValueError\u001b[0m: The number of FixedLocator locations (5), usually from a call to set_ticks, does not match the number of ticklabels (3)."
     ]
    },
    {
     "data": {
      "image/png": "[encoded data removed]",
      "text/plain": [
       "<Figure size 432x288 with 1 Axes>"
      ]
     },
     "metadata": {},
     "output_type": "display_data"
    }
   ],
   "source": [
    "sex_plot = sex.plot.barh(color=['#a50026', '#66bd63', '#a6d96a'])\n",
    "sex_plot.set_xlabel('% Victim', fontsize=12, fontweight='bold')\n",
    "sex_plot.set_yticklabels(['Male', 'Woman', 'U'])\n",
    "sex_plot.set_ylabel('Sex', fontsize=12, fontweight='bold')\n",
    "sex_plot.set_title('Victim Sex', fontsize=14, fontweight='bold')"
   ]
  },
  {
   "cell_type": "markdown",
   "metadata": {
    "id": "apRMbXsDlp0X"
   },
   "source": [
    "### Etnic of the victim\n",
    "\n"
   ]
  },
  {
   "cell_type": "code",
   "execution_count": 60,
   "metadata": {
    "id": "Seb9H8HQliGo"
   },
   "outputs": [],
   "source": [
    "df.loc[~df['Vict Descent'].isin(['H','W','B']), 'Vict Descent'] = 'O'"
   ]
  },
  {
   "cell_type": "code",
   "execution_count": 61,
   "metadata": {
    "id": "5WdRe0J2lgx6"
   },
   "outputs": [],
   "source": [
    "etnia = df['Vict Descent'].value_counts(normalize=True)"
   ]
  },
  {
   "cell_type": "code",
   "execution_count": 62,
   "metadata": {
    "colab": {
     "base_uri": "https://localhost:8080/",
     "height": 318
    },
    "id": "zdtpJHEXugOO",
    "outputId": "72cd6bbe-0cdd-4321-d205-a21c640c51b4"
   },
   "outputs": [
    {
     "data": {
      "text/plain": [
       "Text(0.5, 1.0, 'Victims by etnic')"
      ]
     },
     "execution_count": 62,
     "metadata": {},
     "output_type": "execute_result"
    },
    {
     "data": {
      "image/png": "[encoded data removed]",
      "text/plain": [
       "<Figure size 432x288 with 1 Axes>"
      ]
     },
     "metadata": {},
     "output_type": "display_data"
    }
   ],
   "source": [
    "sex_plot = etnia.plot.barh(color=['#253494', '#225ea8', '#1d91c0', '#41b6c4'])\n",
    "sex_plot.set_xlabel('Proportion', fontsize=12, fontweight='bold')\n",
    "sex_plot.set_yticklabels(['Others', 'Latin', 'White', 'Black'])\n",
    "sex_plot.set_ylabel('Etnic', fontsize=12, fontweight='bold')\n",
    "sex_plot.set_title('Victims by etnic', fontsize=14, fontweight='bold')"
   ]
  },
  {
   "cell_type": "markdown",
   "metadata": {
    "id": "HvbVSEl_Dkoj"
   },
   "source": [
    "### Victims by sex and type of crime\n"
   ]
  },
  {
   "cell_type": "code",
   "execution_count": 63,
   "metadata": {
    "colab": {
     "base_uri": "https://localhost:8080/",
     "height": 303
    },
    "id": "oDF5qDGiSqu_",
    "outputId": "46459d60-3373-4427-be6f-fa3592e28d4f"
   },
   "outputs": [
    {
     "data": {
      "text/plain": [
       "<AxesSubplot:xlabel='count', ylabel='Crm Cd Desc'>"
      ]
     },
     "execution_count": 63,
     "metadata": {},
     "output_type": "execute_result"
    },
    {
     "data": {
      "image/png": "[encoded data removed]",
      "text/plain": [
       "<Figure size 432x288 with 1 Axes>"
      ]
     },
     "metadata": {},
     "output_type": "display_data"
    }
   ],
   "source": [
    "sns.countplot(y = 'Crm Cd Desc', hue = 'Vict Sex', data = df) #grouping types"
   ]
  },
  {
   "cell_type": "code",
   "execution_count": 64,
   "metadata": {
    "colab": {
     "base_uri": "https://localhost:8080/"
    },
    "id": "5ddZUhyjeNa8",
    "outputId": "d73a1c81-600e-424d-bdaf-1bf8afea5992"
   },
   "outputs": [
    {
     "data": {
      "text/plain": [
       "142"
      ]
     },
     "execution_count": 64,
     "metadata": {},
     "output_type": "execute_result"
    }
   ],
   "source": [
    "df['Crm Cd Desc'].nunique()"
   ]
  },
  {
   "cell_type": "code",
   "execution_count": 65,
   "metadata": {
    "colab": {
     "base_uri": "https://localhost:8080/"
    },
    "id": "P0a7GfPaeSSH",
    "outputId": "856a8f73-6202-4000-82a4-705eaac2e607"
   },
   "outputs": [
    {
     "data": {
      "text/plain": [
       "array(['VIOLATION OF COURT ORDER',\n",
       "       'VANDALISM - FELONY ($400 & OVER, ALL CHURCH VANDALISMS)',\n",
       "       'OTHER MISCELLANEOUS CRIME', 'RAPE, ATTEMPTED',\n",
       "       'SHOPLIFTING - PETTY THEFT ($950 & UNDER)',\n",
       "       'BURGLARY FROM VEHICLE',\n",
       "       'ASSAULT WITH DEADLY WEAPON, AGGRAVATED ASSAULT',\n",
       "       'THEFT-GRAND ($950.01 & OVER)EXCPT,GUNS,FOWL,LIVESTK,PROD',\n",
       "       'BATTERY - SIMPLE ASSAULT', 'ROBBERY', 'BOMB SCARE',\n",
       "       'CHILD NEGLECT (SEE 300 W.I.C.)',\n",
       "       'INTIMATE PARTNER - AGGRAVATED ASSAULT',\n",
       "       'INTIMATE PARTNER - SIMPLE ASSAULT',\n",
       "       'THEFT PLAIN - PETTY ($950 & UNDER)',\n",
       "       'CRIMINAL THREATS - NO WEAPON DISPLAYED', 'ATTEMPTED ROBBERY',\n",
       "       'VANDALISM - MISDEAMEANOR ($399 OR UNDER)', 'BURGLARY', 'ARSON',\n",
       "       'RAPE, FORCIBLE', 'BRANDISH WEAPON',\n",
       "       'THROWING OBJECT AT MOVING VEHICLE',\n",
       "       'SHOPLIFTING-GRAND THEFT ($950.01 & OVER)',\n",
       "       'CHILD ABUSE (PHYSICAL) - SIMPLE ASSAULT',\n",
       "       'SHOTS FIRED AT INHABITED DWELLING',\n",
       "       'THEFT FROM MOTOR VEHICLE - GRAND ($400 AND OVER)',\n",
       "       'VEHICLE - STOLEN', 'KIDNAPPING - GRAND ATTEMPT',\n",
       "       'CRIMINAL HOMICIDE', 'THEFT PLAIN - ATTEMPT', 'THEFT, PERSON',\n",
       "       'TRESPASSING', 'KIDNAPPING', 'VEHICLE - ATTEMPT STOLEN',\n",
       "       'BATTERY WITH SEXUAL CONTACT', 'DOCUMENT FORGERY / STOLEN FELONY',\n",
       "       'BATTERY POLICE (SIMPLE)',\n",
       "       'CHILD ABUSE (PHYSICAL) - AGGRAVATED ASSAULT',\n",
       "       'DISTURBING THE PEACE', 'OTHER ASSAULT',\n",
       "       'VIOLATION OF RESTRAINING ORDER', 'LEWD CONDUCT',\n",
       "       'CRM AGNST CHLD (13 OR UNDER) (14-15 & SUSP 10 YRS OLDER)',\n",
       "       'THEFT OF IDENTITY',\n",
       "       'ASSAULT WITH DEADLY WEAPON ON POLICE OFFICER',\n",
       "       'CHILD ANNOYING (17YRS & UNDER)',\n",
       "       'SODOMY/SEXUAL CONTACT B/W PENIS OF ONE PERS TO ANUS OTH',\n",
       "       'ORAL COPULATION', 'CRUELTY TO ANIMALS',\n",
       "       'THEFT FROM MOTOR VEHICLE - PETTY ($950 & UNDER)',\n",
       "       'LETTERS, LEWD  -  TELEPHONE CALLS, LEWD', 'PEEPING TOM',\n",
       "       'INDECENT EXPOSURE', 'BIKE - STOLEN',\n",
       "       'BURGLARY FROM VEHICLE, ATTEMPTED', 'BURGLARY, ATTEMPTED',\n",
       "       'STALKING', 'THREATENING PHONE CALLS/LETTERS',\n",
       "       'SEX,UNLAWFUL(INC MUTUAL CONSENT, PENETRATION W/ FRGN OBJ',\n",
       "       'BUNCO, PETTY THEFT', 'VIOLATION OF TEMPORARY RESTRAINING ORDER',\n",
       "       'BUNCO, GRAND THEFT', 'EMBEZZLEMENT, GRAND THEFT ($950.01 & OVER)',\n",
       "       'SEXUAL PENETRATION W/FOREIGN OBJECT', 'EXTORTION', 'PICKPOCKET',\n",
       "       'EMBEZZLEMENT, PETTY THEFT ($950 & UNDER)', 'PURSE SNATCHING',\n",
       "       'WEAPONS POSSESSION/BOMBING', 'COUNTERFEIT',\n",
       "       'DEFRAUDING INNKEEPER/THEFT OF SERVICES, $400 & UNDER',\n",
       "       'FALSE IMPRISONMENT', 'CREDIT CARDS, FRAUD USE ($950.01 & OVER)',\n",
       "       'DISCHARGE FIREARMS/SHOTS FIRED',\n",
       "       'DEFRAUDING INNKEEPER/THEFT OF SERVICES, OVER $400',\n",
       "       'THEFT FROM PERSON - ATTEMPT', 'UNAUTHORIZED COMPUTER ACCESS',\n",
       "       'PANDERING', 'PIMPING', 'DRUNK ROLL - ATTEMPT',\n",
       "       'SHOPLIFTING - ATTEMPT', 'RESISTING ARREST',\n",
       "       'DISHONEST EMPLOYEE - GRAND THEFT', 'RECKLESS DRIVING', 'PROWLER',\n",
       "       'CREDIT CARDS, FRAUD USE ($950 & UNDER',\n",
       "       'DOCUMENT WORTHLESS ($200.01 & OVER)', 'CHILD STEALING',\n",
       "       'CONTEMPT OF COURT', 'CONSPIRACY',\n",
       "       'THEFT FROM MOTOR VEHICLE - ATTEMPT', 'DRUNK ROLL',\n",
       "       'BATTERY ON A FIREFIGHTER', 'ILLEGAL DUMPING', 'LYNCHING',\n",
       "       'THEFT, COIN MACHINE - PETTY ($950 & UNDER)',\n",
       "       'GRAND THEFT / INSURANCE FRAUD', 'BUNCO, ATTEMPT',\n",
       "       'DISRUPT SCHOOL', 'THEFT, COIN MACHINE - GRAND ($950.01 & OVER)',\n",
       "       'FALSE POLICE REPORT', 'PURSE SNATCHING - ATTEMPT',\n",
       "       'BOAT - STOLEN',\n",
       "       'SHOTS FIRED AT MOVING VEHICLE, TRAIN OR AIRCRAFT',\n",
       "       'DRIVING WITHOUT OWNER CONSENT (DWOC)', 'CONTRIBUTING',\n",
       "       'FAILURE TO YIELD', 'TILL TAP - ATTEMPT', 'DRUGS, TO A MINOR',\n",
       "       'INCITING A RIOT',\n",
       "       'BEASTIALITY, CRIME AGAINST NATURE SEXUAL ASSLT WITH ANIM',\n",
       "       'BRIBERY', 'LYNCHING - ATTEMPTED',\n",
       "       'SEX OFFENDER REGISTRANT OUT OF COMPLIANCE',\n",
       "       'TELEPHONE PROPERTY - DAMAGE', 'CHILD ABANDONMENT',\n",
       "       'TILL TAP - GRAND THEFT ($950.01 & OVER)',\n",
       "       'LEWD/LASCIVIOUS ACTS WITH CHILD',\n",
       "       'DISHONEST EMPLOYEE - PETTY THEFT', 'PICKPOCKET, ATTEMPT',\n",
       "       'TILL TAP - PETTY ($950 & UNDER)',\n",
       "       'DOCUMENT WORTHLESS ($200 & UNDER)',\n",
       "       'HUMAN TRAFFICKING - COMMERCIAL SEX ACTS',\n",
       "       'MANSLAUGHTER, NEGLIGENT', 'GRAND THEFT / AUTO REPAIR', 'BIGAMY',\n",
       "       'THEFT, COIN MACHINE - ATTEMPT', 'PETTY THEFT - AUTO REPAIR',\n",
       "       'BIKE - ATTEMPTED STOLEN', 'FAILURE TO DISPERSE',\n",
       "       'REPLICA FIREARMS(SALE,DISPLAY,MANUFACTURE OR DISTRIBUTE)',\n",
       "       'VEHICLE - MOTORIZED SCOOTERS, BICYCLES, AND WHEELCHAIRS',\n",
       "       'HUMAN TRAFFICKING - INVOLUNTARY SERVITUDE', 'CHILD PORNOGRAPHY',\n",
       "       'FIREARMS RESTRAINING ORDER (FIREARMS RO)',\n",
       "       'INCEST (SEXUAL ACTS BETWEEN BLOOD RELATIVES)', 'ABORTION/ILLEGAL',\n",
       "       'DISHONEST EMPLOYEE ATTEMPTED THEFT',\n",
       "       'BLOCKING DOOR INDUCTION CENTER', 'TRAIN WRECKING',\n",
       "       'FIREARMS TEMPORARY RESTRAINING ORDER (TEMP FIREARMS RO)'],\n",
       "      dtype=object)"
      ]
     },
     "execution_count": 65,
     "metadata": {},
     "output_type": "execute_result"
    }
   ],
   "source": [
    "df['Crm Cd Desc'].unique()"
   ]
  },
  {
   "cell_type": "code",
   "execution_count": 66,
   "metadata": {
    "colab": {
     "base_uri": "https://localhost:8080/"
    },
    "id": "GPF9aj-qWlhs",
    "outputId": "193ab7e8-a9e8-45d5-9603-020f83f11c2d"
   },
   "outputs": [
    {
     "data": {
      "text/plain": [
       "BATTERY - SIMPLE ASSAULT                                   9.015063e-02\n",
       "VEHICLE - STOLEN                                           7.728010e-02\n",
       "BURGLARY FROM VEHICLE                                      7.589604e-02\n",
       "THEFT PLAIN - PETTY ($950 & UNDER)                         7.021026e-02\n",
       "BURGLARY                                                   6.895128e-02\n",
       "                                                               ...     \n",
       "FIREARMS RESTRAINING ORDER (FIREARMS RO)                   2.033901e-06\n",
       "BLOCKING DOOR INDUCTION CENTER                             1.016951e-06\n",
       "DRUNK ROLL - ATTEMPT                                       5.084753e-07\n",
       "TRAIN WRECKING                                             5.084753e-07\n",
       "FIREARMS TEMPORARY RESTRAINING ORDER (TEMP FIREARMS RO)    5.084753e-07\n",
       "Name: Crm Cd Desc, Length: 142, dtype: float64"
      ]
     },
     "execution_count": 66,
     "metadata": {},
     "output_type": "execute_result"
    }
   ],
   "source": [
    "df['Crm Cd Desc'].value_counts(normalize = True)"
   ]
  },
  {
   "cell_type": "code",
   "execution_count": 67,
   "metadata": {
    "id": "5IEQHEHtZvbK"
   },
   "outputs": [],
   "source": [
    "df.loc[df['Crm Cd Desc'].str.contains('THEFT|ROBBERY|STOLEN|BURGLARY'), 'Crm Cd Desc'] = 'Robbery'\n",
    "df.loc[df['Crm Cd Desc'].str.contains('ASSAULT'), 'Crm Cd Desc'] = 'Assault'\n",
    "df.loc[df['Crm Cd Desc'].str.contains('RAPE|SEXUAL|INTIMATE|SEX'), 'Crm Cd Desc'] = 'Rape'\n",
    "df.loc[df['Crm Cd Desc'].str.contains('BURGLARY FROM VEHICLE|VEHICLE'), 'Crm Cd Desc'] = 'Burglary from vehicle'\n",
    "df.loc[df['Crm Cd Desc'].str.contains('HOMICIDE'), 'Crm Cd Desc'] = 'Homicide'\n",
    "df.loc[df['Crm Cd Desc'].str.contains('CHILD'), 'Crm Cd Desc'] = 'Child'\n",
    "df.loc[df['Crm Cd Desc'].str.contains('VANDALISM'), 'Crm Cd Desc'] = 'Vandalism'\n",
    "df.loc[df['Crm Cd Desc'].str.contains('THREATS'), 'Crm Cd Desc'] = 'Threats'\n",
    "df.loc[df['Crm Cd Desc'].str.contains('BRANDISH WEAPON'), 'Crm Cd Desc'] = 'Brandish weapon'"
   ]
  },
  {
   "cell_type": "code",
   "execution_count": 68,
   "metadata": {
    "colab": {
     "base_uri": "https://localhost:8080/"
    },
    "id": "Kpta7-pwjxdK",
    "outputId": "3588c2c9-91d6-4b33-b73d-4a8205b2950a"
   },
   "outputs": [
    {
     "data": {
      "text/plain": [
       "80"
      ]
     },
     "execution_count": 68,
     "metadata": {},
     "output_type": "execute_result"
    }
   ],
   "source": [
    "df['Crm Cd Desc'].nunique()"
   ]
  },
  {
   "cell_type": "code",
   "execution_count": 69,
   "metadata": {
    "colab": {
     "base_uri": "https://localhost:8080/"
    },
    "id": "kGkkjDkEiLLZ",
    "outputId": "19244192-a556-4889-82ae-a685b0e30e28"
   },
   "outputs": [
    {
     "data": {
      "text/plain": [
       "Robbery                                                    1102401\n",
       "Assault                                                     403729\n",
       "Vandalism                                                   186220\n",
       "Threats                                                      51681\n",
       "Rape                                                         31182\n",
       "                                                            ...   \n",
       "FIREARMS RESTRAINING ORDER (FIREARMS RO)                         4\n",
       "BLOCKING DOOR INDUCTION CENTER                                   2\n",
       "DRUNK ROLL - ATTEMPT                                             1\n",
       "TRAIN WRECKING                                                   1\n",
       "FIREARMS TEMPORARY RESTRAINING ORDER (TEMP FIREARMS RO)          1\n",
       "Name: Crm Cd Desc, Length: 80, dtype: int64"
      ]
     },
     "execution_count": 69,
     "metadata": {},
     "output_type": "execute_result"
    }
   ],
   "source": [
    "df['Crm Cd Desc'].value_counts()"
   ]
  },
  {
   "cell_type": "code",
   "execution_count": 70,
   "metadata": {
    "id": "Lv-sdnlFXO_m"
   },
   "outputs": [],
   "source": [
    "commoncrimes = df['Crm Cd Desc'].value_counts(normalize = True)[:10].index.to_list()"
   ]
  },
  {
   "cell_type": "code",
   "execution_count": 71,
   "metadata": {
    "colab": {
     "base_uri": "https://localhost:8080/"
    },
    "id": "jD80CBSkZdHu",
    "outputId": "96e67f53-3017-4dfb-8ee2-bfc76fccfc65"
   },
   "outputs": [
    {
     "name": "stdout",
     "output_type": "stream",
     "text": [
      "['Robbery', 'Assault', 'Vandalism', 'Threats', 'Rape', 'TRESPASSING', 'LETTERS, LEWD  -  TELEPHONE CALLS, LEWD', 'OTHER MISCELLANEOUS CRIME', 'VIOLATION OF RESTRAINING ORDER', 'VIOLATION OF COURT ORDER']\n"
     ]
    }
   ],
   "source": [
    "print(commoncrimes)"
   ]
  },
  {
   "cell_type": "code",
   "execution_count": 72,
   "metadata": {
    "id": "ZSazcjk6pot2"
   },
   "outputs": [],
   "source": [
    "df.loc[~(df['Crm Cd Desc'].isin(commoncrimes)),'Crm Cd Desc'] = 'Others'"
   ]
  },
  {
   "cell_type": "code",
   "execution_count": 73,
   "metadata": {
    "id": "4ntU32TmmsX8"
   },
   "outputs": [],
   "source": [
    "df.loc[df['Crm Cd Desc'].str.contains('TRESPASSING'), 'Crm Cd Desc'] = 'Trespassing'\n",
    "df.loc[df['Crm Cd Desc'].str.contains('VIOLATION OF RESTRAINING ORDER'), 'Crm Cd Desc'] = 'Violation of restraining order'\n",
    "df.loc[df['Crm Cd Desc'].str.contains('OTHER MISCELLANEOUS CRIME|LETTERS, LEWD  -  TELEPHONE CALLS, LEWD'), 'Crm Cd Desc'] = 'Others'"
   ]
  },
  {
   "cell_type": "code",
   "execution_count": 75,
   "metadata": {
    "id": "PNBLC3Vlaxck"
   },
   "outputs": [],
   "source": [
    "male_o_fem = df[df['Vict Sex'].isin(['F', 'M'])] "
   ]
  },
  {
   "cell_type": "code",
   "execution_count": 76,
   "metadata": {
    "colab": {
     "base_uri": "https://localhost:8080/",
     "height": 318
    },
    "id": "hG3_GB_8aRA3",
    "outputId": "8913bf67-85ba-4cb7-af70-125a2e279b6a"
   },
   "outputs": [
    {
     "data": {
      "text/plain": [
       "Text(0.5, 1.0, 'Crime type by sex')"
      ]
     },
     "execution_count": 76,
     "metadata": {},
     "output_type": "execute_result"
    },
    {
     "data": {
      "image/png": "[encoded data removed]",
      "text/plain": [
       "<Figure size 432x288 with 1 Axes>"
      ]
     },
     "metadata": {},
     "output_type": "display_data"
    }
   ],
   "source": [
    "\n",
    "plot = sns.countplot(y = 'Crm Cd Desc', hue = 'Vict Sex', data = male_o_fem, order = male_o_fem['Crm Cd Desc'].value_counts().index, palette='YlGn')\n",
    "plot.set_ylabel('Crime type', fontsize=12, fontweight='bold')\n",
    "plot.set_xlabel('Cant of crimes', fontsize=12, fontweight='bold')\n",
    "plot.legend(labels = ['Female', 'Male'], title = 'Victim Sex')\n",
    "plot.set_title('Crime type by sex', fontsize=14, fontweight='bold')"
   ]
  },
  {
   "cell_type": "markdown",
   "metadata": {
    "id": "53J2c6xBlBOs"
   },
   "source": [
    "### Characterization of crimes by month in 2020"
   ]
  },
  {
   "cell_type": "code",
   "execution_count": 77,
   "metadata": {
    "id": "OqpXbEcCgl3I"
   },
   "outputs": [],
   "source": [
    "df['year'] = df['Date'].apply(lambda x: x.year)"
   ]
  },
  {
   "cell_type": "code",
   "execution_count": 78,
   "metadata": {
    "colab": {
     "base_uri": "https://localhost:8080/"
    },
    "id": "-AgNOksehPZD",
    "outputId": "13b4aa76-bd5e-4d83-a741-60e033491b2b"
   },
   "outputs": [
    {
     "data": {
      "text/plain": [
       "0          2010\n",
       "1          2010\n",
       "2          2010\n",
       "3          2010\n",
       "4          2010\n",
       "           ... \n",
       "2060943    2019\n",
       "2060944    2019\n",
       "2060945    2019\n",
       "2060946    2019\n",
       "2060947    2019\n",
       "Name: year, Length: 1966664, dtype: int64"
      ]
     },
     "execution_count": 78,
     "metadata": {},
     "output_type": "execute_result"
    }
   ],
   "source": [
    "df['year']"
   ]
  },
  {
   "cell_type": "code",
   "execution_count": 79,
   "metadata": {
    "id": "fp00cB4NhS5C"
   },
   "outputs": [],
   "source": [
    "df_2020 = df[df['year'] == 2020].copy()"
   ]
  },
  {
   "cell_type": "code",
   "execution_count": 80,
   "metadata": {
    "colab": {
     "base_uri": "https://localhost:8080/"
    },
    "id": "hAKwZIbBhXIn",
    "outputId": "35e7f193-af5e-4ae1-9f9f-30bf2a66816d"
   },
   "outputs": [
    {
     "data": {
      "text/plain": [
       "2020    73912\n",
       "Name: year, dtype: int64"
      ]
     },
     "execution_count": 80,
     "metadata": {},
     "output_type": "execute_result"
    }
   ],
   "source": [
    "df_2020['year'].value_counts()"
   ]
  },
  {
   "cell_type": "code",
   "execution_count": 81,
   "metadata": {
    "id": "Ns_jR7trYMCs"
   },
   "outputs": [],
   "source": [
    "df_2020['Month'] = df['Date'].apply(lambda x: x.month)"
   ]
  },
  {
   "cell_type": "code",
   "execution_count": 82,
   "metadata": {
    "colab": {
     "base_uri": "https://localhost:8080/"
    },
    "id": "p4R0jOWrYeRO",
    "outputId": "c7672eeb-c260-4cdf-fbcb-ae077b6c03c7"
   },
   "outputs": [
    {
     "data": {
      "text/plain": [
       "409975      9\n",
       "409977     10\n",
       "409985      1\n",
       "409987     11\n",
       "409992      3\n",
       "           ..\n",
       "1382925     5\n",
       "1382927     6\n",
       "1382932     2\n",
       "1382952     8\n",
       "1382968     4\n",
       "Name: Month, Length: 73912, dtype: int64"
      ]
     },
     "execution_count": 82,
     "metadata": {},
     "output_type": "execute_result"
    }
   ],
   "source": [
    "df_2020['Month']"
   ]
  },
  {
   "cell_type": "code",
   "execution_count": 83,
   "metadata": {
    "id": "VcYh-DxpYhgF"
   },
   "outputs": [],
   "source": [
    "df_months = df_2020.groupby('Month').size()"
   ]
  },
  {
   "cell_type": "code",
   "execution_count": 84,
   "metadata": {
    "colab": {
     "base_uri": "https://localhost:8080/"
    },
    "id": "Ah0I-tYZbqj3",
    "outputId": "94b55500-3b2b-45d0-ea8b-452831072861"
   },
   "outputs": [
    {
     "data": {
      "text/plain": [
       "Month\n",
       "1     7046\n",
       "2     6517\n",
       "3     6132\n",
       "4     6195\n",
       "5     6594\n",
       "6     6768\n",
       "7     6704\n",
       "8     6579\n",
       "9     6045\n",
       "10    5569\n",
       "11    5094\n",
       "12    4669\n",
       "dtype: int64"
      ]
     },
     "execution_count": 84,
     "metadata": {},
     "output_type": "execute_result"
    }
   ],
   "source": [
    "df_months"
   ]
  },
  {
   "cell_type": "code",
   "execution_count": 85,
   "metadata": {
    "id": "NB4gJbmebLlq"
   },
   "outputs": [],
   "source": [
    "df_months.index = ['Jan', 'Feb', 'Mar', 'Apr', 'May', 'Jun', 'Jul', 'Ago', 'Sep', 'Oct', 'Nov', 'Dec']"
   ]
  },
  {
   "cell_type": "code",
   "execution_count": 86,
   "metadata": {
    "colab": {
     "base_uri": "https://localhost:8080/"
    },
    "id": "pLJyh6IvYtsj",
    "outputId": "65266c55-9624-4ada-c4f2-6f485c319caf"
   },
   "outputs": [
    {
     "data": {
      "text/plain": [
       "Jan    7046\n",
       "Feb    6517\n",
       "Mar    6132\n",
       "Apr    6195\n",
       "May    6594\n",
       "Jun    6768\n",
       "Jul    6704\n",
       "Ago    6579\n",
       "Sep    6045\n",
       "Oct    5569\n",
       "Nov    5094\n",
       "Dec    4669\n",
       "dtype: int64"
      ]
     },
     "execution_count": 86,
     "metadata": {},
     "output_type": "execute_result"
    }
   ],
   "source": [
    "df_months"
   ]
  },
  {
   "cell_type": "code",
   "execution_count": null,
   "metadata": {
    "colab": {
     "base_uri": "https://localhost:8080/",
     "height": 318
    },
    "id": "r4ZJGJl6Yv-m",
    "outputId": "54686585-11c6-4c82-cfa3-14f49d783a09"
   },
   "outputs": [],
   "source": [
    "plot_months = sns.lineplot(x = df_months.index, y = df_months.values, marker = 'o', color='#b2182b')\n",
    "plot_months.set_ylabel('Number of crimes', fontsize=12, fontweight='bold')\n",
    "plot_months.set_xlabel('Month', fontsize=12, fontweight='bold')\n",
    "plot_months.set_title('Number of crimes by month', fontsize=14, fontweight='bold')"
   ]
  },
  {
   "cell_type": "markdown",
   "metadata": {
    "id": "VD0gRS3DmNVM"
   },
   "source": [
    "### Characterization of crimes by hour in 2020"
   ]
  },
  {
   "cell_type": "code",
   "execution_count": 87,
   "metadata": {
    "id": "VvWX36immYfH"
   },
   "outputs": [],
   "source": [
    "df_2020['hour'] = df_2020['Time'].apply(lambda x: x.hour)"
   ]
  },
  {
   "cell_type": "code",
   "execution_count": 88,
   "metadata": {
    "colab": {
     "base_uri": "https://localhost:8080/"
    },
    "id": "Y0SiQ1R-mtob",
    "outputId": "2e865497-89d1-4a14-b054-50f1a73ca343"
   },
   "outputs": [
    {
     "data": {
      "text/plain": [
       "12    4738\n",
       "18    4688\n",
       "17    4584\n",
       "20    4268\n",
       "19    4114\n",
       "16    4057\n",
       "15    4009\n",
       "21    3868\n",
       "14    3708\n",
       "22    3608\n",
       "13    3359\n",
       "11    3172\n",
       "23    3081\n",
       "10    3047\n",
       "0     2805\n",
       "8     2716\n",
       "9     2589\n",
       "1     2166\n",
       "2     1874\n",
       "7     1757\n",
       "3     1608\n",
       "6     1420\n",
       "4     1392\n",
       "5     1284\n",
       "Name: hour, dtype: int64"
      ]
     },
     "execution_count": 88,
     "metadata": {},
     "output_type": "execute_result"
    }
   ],
   "source": [
    "df_2020['hour'].value_counts()"
   ]
  },
  {
   "cell_type": "code",
   "execution_count": 89,
   "metadata": {
    "id": "I1xDhSpKrOIR"
   },
   "outputs": [],
   "source": [
    "df_2020.drop(df_2020[df_2020['hour'] == 0].index, inplace = True)"
   ]
  },
  {
   "cell_type": "code",
   "execution_count": 90,
   "metadata": {
    "id": "fVhtvZQDsLQ_"
   },
   "outputs": [],
   "source": [
    "df_hours = df_2020.groupby('hour').size()"
   ]
  },
  {
   "cell_type": "code",
   "execution_count": 91,
   "metadata": {
    "colab": {
     "base_uri": "https://localhost:8080/"
    },
    "id": "GzHa5ZMksOwd",
    "outputId": "6951eadc-814d-460f-b8cf-b5011a7bd399"
   },
   "outputs": [
    {
     "data": {
      "text/plain": [
       "hour\n",
       "1     2166\n",
       "2     1874\n",
       "3     1608\n",
       "4     1392\n",
       "5     1284\n",
       "6     1420\n",
       "7     1757\n",
       "8     2716\n",
       "9     2589\n",
       "10    3047\n",
       "11    3172\n",
       "12    4738\n",
       "13    3359\n",
       "14    3708\n",
       "15    4009\n",
       "16    4057\n",
       "17    4584\n",
       "18    4688\n",
       "19    4114\n",
       "20    4268\n",
       "21    3868\n",
       "22    3608\n",
       "23    3081\n",
       "dtype: int64"
      ]
     },
     "execution_count": 91,
     "metadata": {},
     "output_type": "execute_result"
    }
   ],
   "source": [
    "df_hours"
   ]
  },
  {
   "cell_type": "code",
   "execution_count": 92,
   "metadata": {
    "colab": {
     "base_uri": "https://localhost:8080/",
     "height": 443
    },
    "id": "NYr57HnisCD7",
    "outputId": "11d22959-26af-4fd8-8f15-ccd5c4ae3383"
   },
   "outputs": [
    {
     "data": {
      "text/plain": [
       "[<matplotlib.axis.XTick at 0x20e0be6eaf0>,\n",
       " <matplotlib.axis.XTick at 0x20e0be6eac0>,\n",
       " <matplotlib.axis.XTick at 0x20e0bf34a30>,\n",
       " <matplotlib.axis.XTick at 0x20daa0cbca0>,\n",
       " <matplotlib.axis.XTick at 0x20e0bfa6610>,\n",
       " <matplotlib.axis.XTick at 0x20e0c312fa0>,\n",
       " <matplotlib.axis.XTick at 0x20e0bfa6880>,\n",
       " <matplotlib.axis.XTick at 0x20e0be6e340>]"
      ]
     },
     "execution_count": 92,
     "metadata": {},
     "output_type": "execute_result"
    },
    {
     "data": {
      "image/png": "[encoded data removed]",
      "text/plain": [
       "<Figure size 432x288 with 1 Axes>"
      ]
     },
     "metadata": {},
     "output_type": "display_data"
    }
   ],
   "source": [
    "plot_hours = sns.lineplot(x = df_hours.index, y = df_hours.values, marker = 'o', color='#b2182b')\n",
    "plot_hours.set_ylabel('Number of crimes', fontsize=12, fontweight='bold')\n",
    "plot_hours.set_xlabel('Time of the day', fontsize=12, fontweight='bold')\n",
    "plot_hours.set_title('Numbers of crimes by time in 2020', fontsize=14, fontweight='bold')\n",
    "plot_hours.set_xticks(range(1, 24, 3))"
   ]
  }
 ],
 "metadata": {
  "anaconda-cloud": {},
  "colab": {
   "collapsed_sections": [],
   "name": "crime.ipynb",
   "provenance": []
  },
  "kernelspec": {
   "display_name": "Python 3 (ipykernel)",
   "language": "python",
   "name": "python3"
  },
  "language_info": {
   "codemirror_mode": {
    "name": "ipython",
    "version": 3
   },
   "file_extension": ".py",
   "mimetype": "text/x-python",
   "name": "python",
   "nbconvert_exporter": "python",
   "pygments_lexer": "ipython3",
   "version": "3.9.7"
  }
 },
 "nbformat": 4,
 "nbformat_minor": 1
}
